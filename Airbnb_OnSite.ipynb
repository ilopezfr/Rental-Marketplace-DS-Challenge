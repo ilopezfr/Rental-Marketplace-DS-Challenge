{
 "cells": [
  {
   "cell_type": "markdown",
   "metadata": {},
   "source": [
    "## Airbnb OnSite Challenge"
   ]
  },
  {
   "cell_type": "markdown",
   "metadata": {},
   "source": [
    "**Assignment:**  Build a **model** that predicts whether a listing will receive a booking request for a calendar night."
   ]
  },
  {
   "cell_type": "code",
   "execution_count": 2,
   "metadata": {
    "collapsed": false
   },
   "outputs": [],
   "source": [
    "import pandas as pd\n",
    "import numpy as np\n",
    "import pylab as plt\n",
    "import seaborn as sns\n",
    "import matplotlib.pyplot as plt\n",
    "%matplotlib inline\n",
    "\n",
    "data_raw = pd.read_csv('../Airbnb ML DS Takehome to Share/onsite_data_challenge.csv')"
   ]
  },
  {
   "cell_type": "code",
   "execution_count": 4,
   "metadata": {
    "collapsed": false
   },
   "outputs": [
    {
     "name": "stdout",
     "output_type": "stream",
     "text": [
      "<class 'pandas.core.frame.DataFrame'>\n",
      "RangeIndex: 184279 entries, 0 to 184278\n",
      "Data columns (total 46 columns):\n",
      "dim_is_requested                                      184279 non-null bool\n",
      "ds_night                                              184279 non-null object\n",
      "ds                                                    184279 non-null object\n",
      "id_listing_anon                                       184279 non-null object\n",
      "id_user_anon                                          184279 non-null object\n",
      "m_effective_daily_price                               184279 non-null float64\n",
      "m_pricing_cleaning_fee                                184279 non-null float64\n",
      "dim_market                                            184279 non-null object\n",
      "dim_lat                                               184279 non-null float64\n",
      "dim_lng                                               184279 non-null float64\n",
      "dim_room_type                                         184279 non-null object\n",
      "dim_person_capacity                                   184279 non-null int64\n",
      "dim_is_instant_bookable                               184279 non-null bool\n",
      "m_checkouts                                           184092 non-null float64\n",
      "m_reviews                                             184092 non-null float64\n",
      "days_since_last_booking                               146443 non-null float64\n",
      "cancel_policy                                         184279 non-null int64\n",
      "image_quality_score                                   170268 non-null float64\n",
      "m_total_overall_rating                                184092 non-null float64\n",
      "m_professional_pictures                               184092 non-null float64\n",
      "dim_has_wireless_internet                             184279 non-null int64\n",
      "ds_night_day_of_week                                  184279 non-null int64\n",
      "ds_night_day_of_year                                  184279 non-null int64\n",
      "ds_checkin_gap                                        182058 non-null float64\n",
      "ds_checkout_gap                                       182058 non-null float64\n",
      "occ_occupancy_plus_minus_7_ds_night                   163552 non-null float64\n",
      "occ_occupancy_plus_minus_14_ds_night                  163627 non-null float64\n",
      "occ_occupancy_trailing_90_ds                          174061 non-null float64\n",
      "m_minimum_nights                                      182058 non-null float64\n",
      "m_maximum_nights                                      182058 non-null float64\n",
      "price_booked_most_recent                              146443 non-null float64\n",
      "p2_p3_click_through_score                             57169 non-null float64\n",
      "p3_inquiry_score                                      54989 non-null float64\n",
      "listing_m_listing_views_2_6_ds_night_decay            181933 non-null float64\n",
      "general_market_m_unique_searchers_0_6_ds_night        184279 non-null float64\n",
      "general_market_m_contacts_0_6_ds_night                184279 non-null float64\n",
      "general_market_m_reservation_requests_0_6_ds_night    184279 non-null float64\n",
      "general_market_m_is_booked_0_6_ds_night               184279 non-null float64\n",
      "m_available_listings_ds_night                         184279 non-null int64\n",
      "kdt_score                                             184279 non-null float64\n",
      "r_kdt_listing_views_0_6_avg_n100                      184278 non-null float64\n",
      "r_kdt_n_active_n100                                   184278 non-null float64\n",
      "r_kdt_n_available_n100                                184278 non-null float64\n",
      "r_kdt_m_effective_daily_price_n100_p50                184278 non-null float64\n",
      "r_kdt_m_effective_daily_price_available_n100_p50      184262 non-null float64\n",
      "r_kdt_m_effective_daily_price_booked_n100_p50         171304 non-null float64\n",
      "dtypes: bool(2), float64(32), int64(6), object(6)\n",
      "memory usage: 62.2+ MB\n"
     ]
    }
   ],
   "source": [
    "data_raw.info()\n",
    "data = data_raw"
   ]
  },
  {
   "cell_type": "code",
   "execution_count": 163,
   "metadata": {
    "collapsed": false
   },
   "outputs": [
    {
     "data": {
      "text/html": [
       "<div>\n",
       "<table border=\"1\" class=\"dataframe\">\n",
       "  <thead>\n",
       "    <tr style=\"text-align: right;\">\n",
       "      <th></th>\n",
       "      <th>m_effective_daily_price</th>\n",
       "      <th>m_pricing_cleaning_fee</th>\n",
       "      <th>dim_lat</th>\n",
       "      <th>dim_lng</th>\n",
       "      <th>dim_person_capacity</th>\n",
       "      <th>m_checkouts</th>\n",
       "      <th>m_reviews</th>\n",
       "      <th>days_since_last_booking</th>\n",
       "      <th>cancel_policy</th>\n",
       "    </tr>\n",
       "  </thead>\n",
       "  <tbody>\n",
       "    <tr>\n",
       "      <th>count</th>\n",
       "      <td>184279.000000</td>\n",
       "      <td>184279.000000</td>\n",
       "      <td>184279.000000</td>\n",
       "      <td>184279.000000</td>\n",
       "      <td>184279.000000</td>\n",
       "      <td>184092.000000</td>\n",
       "      <td>184092.000000</td>\n",
       "      <td>146443.000000</td>\n",
       "      <td>184279.000000</td>\n",
       "    </tr>\n",
       "    <tr>\n",
       "      <th>mean</th>\n",
       "      <td>149.405456</td>\n",
       "      <td>38.014286</td>\n",
       "      <td>43.551959</td>\n",
       "      <td>-44.277191</td>\n",
       "      <td>3.265234</td>\n",
       "      <td>18.461883</td>\n",
       "      <td>10.971194</td>\n",
       "      <td>69.174136</td>\n",
       "      <td>4.154109</td>\n",
       "    </tr>\n",
       "    <tr>\n",
       "      <th>std</th>\n",
       "      <td>272.233310</td>\n",
       "      <td>49.998184</td>\n",
       "      <td>6.817239</td>\n",
       "      <td>59.187486</td>\n",
       "      <td>2.009478</td>\n",
       "      <td>32.309469</td>\n",
       "      <td>20.020473</td>\n",
       "      <td>123.530963</td>\n",
       "      <td>0.816571</td>\n",
       "    </tr>\n",
       "    <tr>\n",
       "      <th>min</th>\n",
       "      <td>-55.000000</td>\n",
       "      <td>0.000000</td>\n",
       "      <td>33.708763</td>\n",
       "      <td>-122.510925</td>\n",
       "      <td>1.000000</td>\n",
       "      <td>0.000000</td>\n",
       "      <td>0.000000</td>\n",
       "      <td>0.000000</td>\n",
       "      <td>3.000000</td>\n",
       "    </tr>\n",
       "    <tr>\n",
       "      <th>25%</th>\n",
       "      <td>71.349427</td>\n",
       "      <td>0.000000</td>\n",
       "      <td>34.129663</td>\n",
       "      <td>-118.357056</td>\n",
       "      <td>2.000000</td>\n",
       "      <td>NaN</td>\n",
       "      <td>NaN</td>\n",
       "      <td>NaN</td>\n",
       "      <td>3.000000</td>\n",
       "    </tr>\n",
       "    <tr>\n",
       "      <th>50%</th>\n",
       "      <td>100.000000</td>\n",
       "      <td>25.000000</td>\n",
       "      <td>48.844982</td>\n",
       "      <td>2.303334</td>\n",
       "      <td>2.000000</td>\n",
       "      <td>NaN</td>\n",
       "      <td>NaN</td>\n",
       "      <td>NaN</td>\n",
       "      <td>4.000000</td>\n",
       "    </tr>\n",
       "    <tr>\n",
       "      <th>75%</th>\n",
       "      <td>152.346733</td>\n",
       "      <td>53.947735</td>\n",
       "      <td>48.871037</td>\n",
       "      <td>2.355681</td>\n",
       "      <td>4.000000</td>\n",
       "      <td>NaN</td>\n",
       "      <td>NaN</td>\n",
       "      <td>NaN</td>\n",
       "      <td>5.000000</td>\n",
       "    </tr>\n",
       "    <tr>\n",
       "      <th>max</th>\n",
       "      <td>12995.000000</td>\n",
       "      <td>800.000000</td>\n",
       "      <td>49.187890</td>\n",
       "      <td>2.887966</td>\n",
       "      <td>16.000000</td>\n",
       "      <td>432.000000</td>\n",
       "      <td>280.000000</td>\n",
       "      <td>1041.000000</td>\n",
       "      <td>8.000000</td>\n",
       "    </tr>\n",
       "  </tbody>\n",
       "</table>\n",
       "</div>"
      ],
      "text/plain": [
       "       m_effective_daily_price  m_pricing_cleaning_fee        dim_lat  \\\n",
       "count            184279.000000           184279.000000  184279.000000   \n",
       "mean                149.405456               38.014286      43.551959   \n",
       "std                 272.233310               49.998184       6.817239   \n",
       "min                 -55.000000                0.000000      33.708763   \n",
       "25%                  71.349427                0.000000      34.129663   \n",
       "50%                 100.000000               25.000000      48.844982   \n",
       "75%                 152.346733               53.947735      48.871037   \n",
       "max               12995.000000              800.000000      49.187890   \n",
       "\n",
       "             dim_lng  dim_person_capacity    m_checkouts      m_reviews  \\\n",
       "count  184279.000000        184279.000000  184092.000000  184092.000000   \n",
       "mean      -44.277191             3.265234      18.461883      10.971194   \n",
       "std        59.187486             2.009478      32.309469      20.020473   \n",
       "min      -122.510925             1.000000       0.000000       0.000000   \n",
       "25%      -118.357056             2.000000            NaN            NaN   \n",
       "50%         2.303334             2.000000            NaN            NaN   \n",
       "75%         2.355681             4.000000            NaN            NaN   \n",
       "max         2.887966            16.000000     432.000000     280.000000   \n",
       "\n",
       "       days_since_last_booking  cancel_policy  \n",
       "count            146443.000000  184279.000000  \n",
       "mean                 69.174136       4.154109  \n",
       "std                 123.530963       0.816571  \n",
       "min                   0.000000       3.000000  \n",
       "25%                        NaN       3.000000  \n",
       "50%                        NaN       4.000000  \n",
       "75%                        NaN       5.000000  \n",
       "max                1041.000000       8.000000  "
      ]
     },
     "execution_count": 163,
     "metadata": {},
     "output_type": "execute_result"
    }
   ],
   "source": [
    "data.iloc[:,0:17].describe()"
   ]
  },
  {
   "cell_type": "code",
   "execution_count": 164,
   "metadata": {
    "collapsed": false
   },
   "outputs": [
    {
     "data": {
      "text/html": [
       "<div>\n",
       "<table border=\"1\" class=\"dataframe\">\n",
       "  <thead>\n",
       "    <tr style=\"text-align: right;\">\n",
       "      <th></th>\n",
       "      <th>image_quality_score</th>\n",
       "      <th>m_total_overall_rating</th>\n",
       "      <th>m_professional_pictures</th>\n",
       "      <th>dim_has_wireless_internet</th>\n",
       "      <th>ds_night_day_of_week</th>\n",
       "      <th>ds_night_day_of_year</th>\n",
       "      <th>ds_checkin_gap</th>\n",
       "      <th>ds_checkout_gap</th>\n",
       "      <th>occ_occupancy_plus_minus_7_ds_night</th>\n",
       "      <th>occ_occupancy_plus_minus_14_ds_night</th>\n",
       "      <th>...</th>\n",
       "      <th>general_market_m_reservation_requests_0_6_ds_night</th>\n",
       "      <th>general_market_m_is_booked_0_6_ds_night</th>\n",
       "      <th>m_available_listings_ds_night</th>\n",
       "      <th>kdt_score</th>\n",
       "      <th>r_kdt_listing_views_0_6_avg_n100</th>\n",
       "      <th>r_kdt_n_active_n100</th>\n",
       "      <th>r_kdt_n_available_n100</th>\n",
       "      <th>r_kdt_m_effective_daily_price_n100_p50</th>\n",
       "      <th>r_kdt_m_effective_daily_price_available_n100_p50</th>\n",
       "      <th>r_kdt_m_effective_daily_price_booked_n100_p50</th>\n",
       "    </tr>\n",
       "  </thead>\n",
       "  <tbody>\n",
       "    <tr>\n",
       "      <th>count</th>\n",
       "      <td>170268.000000</td>\n",
       "      <td>184092.000000</td>\n",
       "      <td>184092.000000</td>\n",
       "      <td>184279.000000</td>\n",
       "      <td>184279.000000</td>\n",
       "      <td>184279.000000</td>\n",
       "      <td>182058.000000</td>\n",
       "      <td>182058.000000</td>\n",
       "      <td>163552.000000</td>\n",
       "      <td>163627.000000</td>\n",
       "      <td>...</td>\n",
       "      <td>184279.000000</td>\n",
       "      <td>184279.000000</td>\n",
       "      <td>184279.000000</td>\n",
       "      <td>184279.000000</td>\n",
       "      <td>184278.000000</td>\n",
       "      <td>184278.000000</td>\n",
       "      <td>184278.000000</td>\n",
       "      <td>184278.000000</td>\n",
       "      <td>184262.000000</td>\n",
       "      <td>171304.000000</td>\n",
       "    </tr>\n",
       "    <tr>\n",
       "      <th>mean</th>\n",
       "      <td>0.562056</td>\n",
       "      <td>47.881706</td>\n",
       "      <td>4.795211</td>\n",
       "      <td>0.937741</td>\n",
       "      <td>2.998763</td>\n",
       "      <td>174.657953</td>\n",
       "      <td>5.888091</td>\n",
       "      <td>6.123241</td>\n",
       "      <td>0.061373</td>\n",
       "      <td>0.079742</td>\n",
       "      <td>...</td>\n",
       "      <td>91.624327</td>\n",
       "      <td>0.973079</td>\n",
       "      <td>18551.170611</td>\n",
       "      <td>1.067703</td>\n",
       "      <td>2.098260</td>\n",
       "      <td>90.208587</td>\n",
       "      <td>45.636869</td>\n",
       "      <td>109.231766</td>\n",
       "      <td>115.385867</td>\n",
       "      <td>95.601191</td>\n",
       "    </tr>\n",
       "    <tr>\n",
       "      <th>std</th>\n",
       "      <td>0.306840</td>\n",
       "      <td>86.908863</td>\n",
       "      <td>8.503853</td>\n",
       "      <td>0.241626</td>\n",
       "      <td>2.004867</td>\n",
       "      <td>108.087953</td>\n",
       "      <td>2.197909</td>\n",
       "      <td>2.041068</td>\n",
       "      <td>0.159816</td>\n",
       "      <td>0.171301</td>\n",
       "      <td>...</td>\n",
       "      <td>48.652866</td>\n",
       "      <td>0.071519</td>\n",
       "      <td>9099.781958</td>\n",
       "      <td>0.523330</td>\n",
       "      <td>2.081157</td>\n",
       "      <td>75.792493</td>\n",
       "      <td>37.506994</td>\n",
       "      <td>64.013523</td>\n",
       "      <td>72.728042</td>\n",
       "      <td>48.744252</td>\n",
       "    </tr>\n",
       "    <tr>\n",
       "      <th>min</th>\n",
       "      <td>0.000000</td>\n",
       "      <td>0.000000</td>\n",
       "      <td>0.000000</td>\n",
       "      <td>0.000000</td>\n",
       "      <td>0.000000</td>\n",
       "      <td>1.000000</td>\n",
       "      <td>0.000000</td>\n",
       "      <td>0.000000</td>\n",
       "      <td>0.000000</td>\n",
       "      <td>0.000000</td>\n",
       "      <td>...</td>\n",
       "      <td>13.142857</td>\n",
       "      <td>0.571429</td>\n",
       "      <td>1028.000000</td>\n",
       "      <td>-1.000000</td>\n",
       "      <td>0.000000</td>\n",
       "      <td>1.000000</td>\n",
       "      <td>0.000000</td>\n",
       "      <td>0.000000</td>\n",
       "      <td>0.000000</td>\n",
       "      <td>0.000000</td>\n",
       "    </tr>\n",
       "    <tr>\n",
       "      <th>25%</th>\n",
       "      <td>NaN</td>\n",
       "      <td>NaN</td>\n",
       "      <td>NaN</td>\n",
       "      <td>1.000000</td>\n",
       "      <td>1.000000</td>\n",
       "      <td>77.000000</td>\n",
       "      <td>NaN</td>\n",
       "      <td>NaN</td>\n",
       "      <td>NaN</td>\n",
       "      <td>NaN</td>\n",
       "      <td>...</td>\n",
       "      <td>56.000000</td>\n",
       "      <td>1.000000</td>\n",
       "      <td>9690.000000</td>\n",
       "      <td>0.666667</td>\n",
       "      <td>NaN</td>\n",
       "      <td>NaN</td>\n",
       "      <td>NaN</td>\n",
       "      <td>NaN</td>\n",
       "      <td>NaN</td>\n",
       "      <td>NaN</td>\n",
       "    </tr>\n",
       "    <tr>\n",
       "      <th>50%</th>\n",
       "      <td>NaN</td>\n",
       "      <td>NaN</td>\n",
       "      <td>NaN</td>\n",
       "      <td>1.000000</td>\n",
       "      <td>3.000000</td>\n",
       "      <td>171.000000</td>\n",
       "      <td>NaN</td>\n",
       "      <td>NaN</td>\n",
       "      <td>NaN</td>\n",
       "      <td>NaN</td>\n",
       "      <td>...</td>\n",
       "      <td>83.142857</td>\n",
       "      <td>1.000000</td>\n",
       "      <td>21027.000000</td>\n",
       "      <td>1.037037</td>\n",
       "      <td>NaN</td>\n",
       "      <td>NaN</td>\n",
       "      <td>NaN</td>\n",
       "      <td>NaN</td>\n",
       "      <td>NaN</td>\n",
       "      <td>NaN</td>\n",
       "    </tr>\n",
       "    <tr>\n",
       "      <th>75%</th>\n",
       "      <td>NaN</td>\n",
       "      <td>NaN</td>\n",
       "      <td>NaN</td>\n",
       "      <td>1.000000</td>\n",
       "      <td>5.000000</td>\n",
       "      <td>267.000000</td>\n",
       "      <td>NaN</td>\n",
       "      <td>NaN</td>\n",
       "      <td>NaN</td>\n",
       "      <td>NaN</td>\n",
       "      <td>...</td>\n",
       "      <td>116.714286</td>\n",
       "      <td>1.000000</td>\n",
       "      <td>24867.000000</td>\n",
       "      <td>1.396552</td>\n",
       "      <td>NaN</td>\n",
       "      <td>NaN</td>\n",
       "      <td>NaN</td>\n",
       "      <td>NaN</td>\n",
       "      <td>NaN</td>\n",
       "      <td>NaN</td>\n",
       "    </tr>\n",
       "    <tr>\n",
       "      <th>max</th>\n",
       "      <td>0.999996</td>\n",
       "      <td>1313.000000</td>\n",
       "      <td>80.000000</td>\n",
       "      <td>1.000000</td>\n",
       "      <td>6.000000</td>\n",
       "      <td>364.000000</td>\n",
       "      <td>7.000000</td>\n",
       "      <td>7.000000</td>\n",
       "      <td>1.000000</td>\n",
       "      <td>1.000000</td>\n",
       "      <td>...</td>\n",
       "      <td>271.571429</td>\n",
       "      <td>1.000000</td>\n",
       "      <td>37892.000000</td>\n",
       "      <td>3.000000</td>\n",
       "      <td>45.081633</td>\n",
       "      <td>910.000000</td>\n",
       "      <td>483.000000</td>\n",
       "      <td>1374.500000</td>\n",
       "      <td>1500.000000</td>\n",
       "      <td>1995.000000</td>\n",
       "    </tr>\n",
       "  </tbody>\n",
       "</table>\n",
       "<p>8 rows × 29 columns</p>\n",
       "</div>"
      ],
      "text/plain": [
       "       image_quality_score  m_total_overall_rating  m_professional_pictures  \\\n",
       "count        170268.000000           184092.000000            184092.000000   \n",
       "mean              0.562056               47.881706                 4.795211   \n",
       "std               0.306840               86.908863                 8.503853   \n",
       "min               0.000000                0.000000                 0.000000   \n",
       "25%                    NaN                     NaN                      NaN   \n",
       "50%                    NaN                     NaN                      NaN   \n",
       "75%                    NaN                     NaN                      NaN   \n",
       "max               0.999996             1313.000000                80.000000   \n",
       "\n",
       "       dim_has_wireless_internet  ds_night_day_of_week  ds_night_day_of_year  \\\n",
       "count              184279.000000         184279.000000         184279.000000   \n",
       "mean                    0.937741              2.998763            174.657953   \n",
       "std                     0.241626              2.004867            108.087953   \n",
       "min                     0.000000              0.000000              1.000000   \n",
       "25%                     1.000000              1.000000             77.000000   \n",
       "50%                     1.000000              3.000000            171.000000   \n",
       "75%                     1.000000              5.000000            267.000000   \n",
       "max                     1.000000              6.000000            364.000000   \n",
       "\n",
       "       ds_checkin_gap  ds_checkout_gap  occ_occupancy_plus_minus_7_ds_night  \\\n",
       "count   182058.000000    182058.000000                        163552.000000   \n",
       "mean         5.888091         6.123241                             0.061373   \n",
       "std          2.197909         2.041068                             0.159816   \n",
       "min          0.000000         0.000000                             0.000000   \n",
       "25%               NaN              NaN                                  NaN   \n",
       "50%               NaN              NaN                                  NaN   \n",
       "75%               NaN              NaN                                  NaN   \n",
       "max          7.000000         7.000000                             1.000000   \n",
       "\n",
       "       occ_occupancy_plus_minus_14_ds_night  \\\n",
       "count                         163627.000000   \n",
       "mean                               0.079742   \n",
       "std                                0.171301   \n",
       "min                                0.000000   \n",
       "25%                                     NaN   \n",
       "50%                                     NaN   \n",
       "75%                                     NaN   \n",
       "max                                1.000000   \n",
       "\n",
       "                           ...                        \\\n",
       "count                      ...                         \n",
       "mean                       ...                         \n",
       "std                        ...                         \n",
       "min                        ...                         \n",
       "25%                        ...                         \n",
       "50%                        ...                         \n",
       "75%                        ...                         \n",
       "max                        ...                         \n",
       "\n",
       "       general_market_m_reservation_requests_0_6_ds_night  \\\n",
       "count                                      184279.000000    \n",
       "mean                                           91.624327    \n",
       "std                                            48.652866    \n",
       "min                                            13.142857    \n",
       "25%                                            56.000000    \n",
       "50%                                            83.142857    \n",
       "75%                                           116.714286    \n",
       "max                                           271.571429    \n",
       "\n",
       "       general_market_m_is_booked_0_6_ds_night  m_available_listings_ds_night  \\\n",
       "count                            184279.000000                  184279.000000   \n",
       "mean                                  0.973079                   18551.170611   \n",
       "std                                   0.071519                    9099.781958   \n",
       "min                                   0.571429                    1028.000000   \n",
       "25%                                   1.000000                    9690.000000   \n",
       "50%                                   1.000000                   21027.000000   \n",
       "75%                                   1.000000                   24867.000000   \n",
       "max                                   1.000000                   37892.000000   \n",
       "\n",
       "           kdt_score  r_kdt_listing_views_0_6_avg_n100  r_kdt_n_active_n100  \\\n",
       "count  184279.000000                     184278.000000        184278.000000   \n",
       "mean        1.067703                          2.098260            90.208587   \n",
       "std         0.523330                          2.081157            75.792493   \n",
       "min        -1.000000                          0.000000             1.000000   \n",
       "25%         0.666667                               NaN                  NaN   \n",
       "50%         1.037037                               NaN                  NaN   \n",
       "75%         1.396552                               NaN                  NaN   \n",
       "max         3.000000                         45.081633           910.000000   \n",
       "\n",
       "       r_kdt_n_available_n100  r_kdt_m_effective_daily_price_n100_p50  \\\n",
       "count           184278.000000                           184278.000000   \n",
       "mean                45.636869                              109.231766   \n",
       "std                 37.506994                               64.013523   \n",
       "min                  0.000000                                0.000000   \n",
       "25%                       NaN                                     NaN   \n",
       "50%                       NaN                                     NaN   \n",
       "75%                       NaN                                     NaN   \n",
       "max                483.000000                             1374.500000   \n",
       "\n",
       "       r_kdt_m_effective_daily_price_available_n100_p50  \\\n",
       "count                                     184262.000000   \n",
       "mean                                         115.385867   \n",
       "std                                           72.728042   \n",
       "min                                            0.000000   \n",
       "25%                                                 NaN   \n",
       "50%                                                 NaN   \n",
       "75%                                                 NaN   \n",
       "max                                         1500.000000   \n",
       "\n",
       "       r_kdt_m_effective_daily_price_booked_n100_p50  \n",
       "count                                  171304.000000  \n",
       "mean                                       95.601191  \n",
       "std                                        48.744252  \n",
       "min                                         0.000000  \n",
       "25%                                              NaN  \n",
       "50%                                              NaN  \n",
       "75%                                              NaN  \n",
       "max                                      1995.000000  \n",
       "\n",
       "[8 rows x 29 columns]"
      ]
     },
     "execution_count": 164,
     "metadata": {},
     "output_type": "execute_result"
    }
   ],
   "source": [
    "data.iloc[:,17:].describe()"
   ]
  },
  {
   "cell_type": "markdown",
   "metadata": {},
   "source": [
    "A few quick observations:\n",
    "- cancel_policy should be converted to categorical.\n",
    "- dim_lat, dim_lng should be used to calculate distances.\n",
    "- either impute values or discard the variables with NaN values. Study these individually."
   ]
  },
  {
   "cell_type": "markdown",
   "metadata": {},
   "source": [
    "### Missing Values"
   ]
  },
  {
   "cell_type": "markdown",
   "metadata": {},
   "source": [
    "Calculate the % of NA's in each column. "
   ]
  },
  {
   "cell_type": "code",
   "execution_count": 5,
   "metadata": {
    "collapsed": false
   },
   "outputs": [
    {
     "data": {
      "text/plain": [
       "p3_inquiry_score                                    70.159921\n",
       "p2_p3_click_through_score                           68.976932\n",
       "days_since_last_booking                             20.531911\n",
       "price_booked_most_recent                            20.531911\n",
       "occ_occupancy_plus_minus_7_ds_night                 11.247619\n",
       "occ_occupancy_plus_minus_14_ds_night                11.206920\n",
       "image_quality_score                                  7.603145\n",
       "r_kdt_m_effective_daily_price_booked_n100_p50        7.040954\n",
       "occ_occupancy_trailing_90_ds                         5.544853\n",
       "listing_m_listing_views_2_6_ds_night_decay           1.273070\n",
       "ds_checkin_gap                                       1.205238\n",
       "ds_checkout_gap                                      1.205238\n",
       "m_maximum_nights                                     1.205238\n",
       "m_minimum_nights                                     1.205238\n",
       "m_professional_pictures                              0.101477\n",
       "m_checkouts                                          0.101477\n",
       "m_reviews                                            0.101477\n",
       "m_total_overall_rating                               0.101477\n",
       "r_kdt_m_effective_daily_price_available_n100_p50     0.009225\n",
       "r_kdt_m_effective_daily_price_n100_p50               0.000543\n",
       "r_kdt_n_available_n100                               0.000543\n",
       "r_kdt_listing_views_0_6_avg_n100                     0.000543\n",
       "r_kdt_n_active_n100                                  0.000543\n",
       "dtype: float64"
      ]
     },
     "execution_count": 5,
     "metadata": {},
     "output_type": "execute_result"
    }
   ],
   "source": [
    "missing = data.apply(lambda x: sum(x.isnull()),axis=0).sort_values(ascending = False)\n",
    "missing[missing>0] / data.shape[0]*100"
   ]
  },
  {
   "cell_type": "markdown",
   "metadata": {},
   "source": [
    "We remove those variables with over 25% of NA's: \n",
    "- `p3_inquiry_score`\n",
    "- `p2_p3_click_through_score`  \n",
    "\n",
    "We'll review one by one the following features:\n",
    "- `days_since_last_booking`, \n",
    "- `price_booked_most_recent` \n",
    "- `occ_occupancy_plus_minus_7_ds_night`\n",
    "- `occ_occupancy_plus_minus_14_ds_night`   \n",
    "- `image_quality_score` \n",
    "\n",
    "\n",
    "For these, we will impute either the Mean or Median \n",
    "- `r_kdt_m_effective_daily_price_booked_n100_p50 `      \n",
    "- `occ_occupancy_trailing_90_ds                   `  \n",
    "- `listing_m_listing_views_2_6_ds_night_decay      `    \n",
    "- `ds_checkin_gap                                   `   \n",
    "- `ds_checkout_gap                                   `  \n",
    "- `m_maximum_nights                                   ` \n",
    "- `m_minimum_nights                                    ` \n",
    "- `m_professional_pictures                              `\n",
    "- `m_checkouts                                        `\n",
    "- `m_reviews              `                              \n",
    "- `m_total_overall_rating`                               \n",
    "\n",
    "For the rest (<2% NA's), I'll remove the rows with nulls. \n",
    "\n",
    "- `r_kdt_m_effective_daily_price_available_n100_p50`\n",
    "- `r_kdt_m_effective_daily_price_n100_p50           `  \n",
    "- `r_kdt_n_available_n100                       `\n",
    "- `r_kdt_listing_views_0_6_avg_n100              `    \n",
    "- `r_kdt_n_active_n100       `\n"
   ]
  },
  {
   "cell_type": "code",
   "execution_count": null,
   "metadata": {
    "collapsed": true
   },
   "outputs": [],
   "source": [
    "#data.drop([p3_inquiry_score])\n",
    "#data.drop([p2_p3_click_through_score])"
   ]
  },
  {
   "cell_type": "markdown",
   "metadata": {},
   "source": [
    "Let's see what's going on with the listings that NaN in **`days_since_last_booking`** and **`price_booked_most_recent`**."
   ]
  },
  {
   "cell_type": "code",
   "execution_count": 166,
   "metadata": {
    "collapsed": false
   },
   "outputs": [
    {
     "data": {
      "text/plain": [
       "count    146443.000000\n",
       "mean         69.174136\n",
       "std         123.530963\n",
       "min           0.000000\n",
       "25%           5.000000\n",
       "50%          20.000000\n",
       "75%          72.000000\n",
       "max        1041.000000\n",
       "Name: days_since_last_booking, dtype: float64"
      ]
     },
     "execution_count": 166,
     "metadata": {},
     "output_type": "execute_result"
    }
   ],
   "source": [
    "data['days_since_last_booking'][~np.isnan(data['days_since_last_booking'])].describe()"
   ]
  },
  {
   "cell_type": "code",
   "execution_count": 167,
   "metadata": {
    "collapsed": false
   },
   "outputs": [
    {
     "data": {
      "image/png": "[encoded data removed]",
      "text/plain": [
       "<matplotlib.figure.Figure at 0x11ca58710>"
      ]
     },
     "metadata": {},
     "output_type": "display_data"
    }
   ],
   "source": [
    "sns.boxplot(data['days_since_last_booking'])\n",
    "sns.despine()"
   ]
  },
  {
   "cell_type": "markdown",
   "metadata": {},
   "source": [
    "Most of the listings have been booked within last 4 and 63 days. The average of days_since_last_booking is 70 days with a very high standard deviation. Then we have a bunch of other listings that haven't been booked for over 5 months (180 days)"
   ]
  },
  {
   "cell_type": "code",
   "execution_count": 6,
   "metadata": {
    "collapsed": true
   },
   "outputs": [],
   "source": [
    "listings_NoLastBooked = data[data['days_since_last_booking'].isnull()]"
   ]
  },
  {
   "cell_type": "code",
   "execution_count": 38,
   "metadata": {
    "collapsed": false
   },
   "outputs": [
    {
     "data": {
      "text/html": [
       "<div>\n",
       "<table border=\"1\" class=\"dataframe\">\n",
       "  <thead>\n",
       "    <tr style=\"text-align: right;\">\n",
       "      <th></th>\n",
       "      <th>id_listing_anon</th>\n",
       "      <th>id_listing_anon</th>\n",
       "      <th>m_checkouts</th>\n",
       "      <th>m_reviews</th>\n",
       "      <th>m_total_overall_rating</th>\n",
       "    </tr>\n",
       "  </thead>\n",
       "  <tbody>\n",
       "    <tr>\n",
       "      <th>2</th>\n",
       "      <td>69b2069d-cf8f-49a7-b559-9619dbe86a7d</td>\n",
       "      <td>69b2069d-cf8f-49a7-b559-9619dbe86a7d</td>\n",
       "      <td>0.0</td>\n",
       "      <td>0.0</td>\n",
       "      <td>0.0</td>\n",
       "    </tr>\n",
       "    <tr>\n",
       "      <th>3</th>\n",
       "      <td>66baade6-9352-4d7c-b590-745899bd12b3</td>\n",
       "      <td>66baade6-9352-4d7c-b590-745899bd12b3</td>\n",
       "      <td>0.0</td>\n",
       "      <td>0.0</td>\n",
       "      <td>0.0</td>\n",
       "    </tr>\n",
       "    <tr>\n",
       "      <th>6</th>\n",
       "      <td>63974898-6e06-4ca9-b6a1-d315d28e64aa</td>\n",
       "      <td>63974898-6e06-4ca9-b6a1-d315d28e64aa</td>\n",
       "      <td>0.0</td>\n",
       "      <td>0.0</td>\n",
       "      <td>0.0</td>\n",
       "    </tr>\n",
       "    <tr>\n",
       "      <th>10</th>\n",
       "      <td>393f9565-2f86-4ea3-8d4f-30c3d024cfed</td>\n",
       "      <td>393f9565-2f86-4ea3-8d4f-30c3d024cfed</td>\n",
       "      <td>0.0</td>\n",
       "      <td>0.0</td>\n",
       "      <td>0.0</td>\n",
       "    </tr>\n",
       "    <tr>\n",
       "      <th>12</th>\n",
       "      <td>8e41b15d-fe3f-4a3a-85d2-4e1fb65068fb</td>\n",
       "      <td>8e41b15d-fe3f-4a3a-85d2-4e1fb65068fb</td>\n",
       "      <td>0.0</td>\n",
       "      <td>0.0</td>\n",
       "      <td>0.0</td>\n",
       "    </tr>\n",
       "  </tbody>\n",
       "</table>\n",
       "</div>"
      ],
      "text/plain": [
       "                         id_listing_anon  \\\n",
       "2   69b2069d-cf8f-49a7-b559-9619dbe86a7d   \n",
       "3   66baade6-9352-4d7c-b590-745899bd12b3   \n",
       "6   63974898-6e06-4ca9-b6a1-d315d28e64aa   \n",
       "10  393f9565-2f86-4ea3-8d4f-30c3d024cfed   \n",
       "12  8e41b15d-fe3f-4a3a-85d2-4e1fb65068fb   \n",
       "\n",
       "                         id_listing_anon  m_checkouts  m_reviews  \\\n",
       "2   69b2069d-cf8f-49a7-b559-9619dbe86a7d          0.0        0.0   \n",
       "3   66baade6-9352-4d7c-b590-745899bd12b3          0.0        0.0   \n",
       "6   63974898-6e06-4ca9-b6a1-d315d28e64aa          0.0        0.0   \n",
       "10  393f9565-2f86-4ea3-8d4f-30c3d024cfed          0.0        0.0   \n",
       "12  8e41b15d-fe3f-4a3a-85d2-4e1fb65068fb          0.0        0.0   \n",
       "\n",
       "    m_total_overall_rating  \n",
       "2                      0.0  \n",
       "3                      0.0  \n",
       "6                      0.0  \n",
       "10                     0.0  \n",
       "12                     0.0  "
      ]
     },
     "execution_count": 38,
     "metadata": {},
     "output_type": "execute_result"
    }
   ],
   "source": [
    "# I want to see if the listing that have days_since_last_booking Null are indeed listings that have never been booked.  \n",
    "listings_NoLastBooked.loc[:,['id_listing_anon', 'id_listing_anon', 'm_checkouts', 'm_reviews', 'm_total_overall_rating']].head(5)"
   ]
  },
  {
   "cell_type": "code",
   "execution_count": 170,
   "metadata": {
    "collapsed": false
   },
   "outputs": [
    {
     "data": {
      "text/html": [
       "<div>\n",
       "<table border=\"1\" class=\"dataframe\">\n",
       "  <thead>\n",
       "    <tr style=\"text-align: right;\">\n",
       "      <th>col_0</th>\n",
       "      <th>count</th>\n",
       "    </tr>\n",
       "    <tr>\n",
       "      <th>m_checkouts</th>\n",
       "      <th></th>\n",
       "    </tr>\n",
       "  </thead>\n",
       "  <tbody>\n",
       "    <tr>\n",
       "      <th>0.0</th>\n",
       "      <td>37075</td>\n",
       "    </tr>\n",
       "    <tr>\n",
       "      <th>1.0</th>\n",
       "      <td>340</td>\n",
       "    </tr>\n",
       "    <tr>\n",
       "      <th>2.0</th>\n",
       "      <td>94</td>\n",
       "    </tr>\n",
       "    <tr>\n",
       "      <th>3.0</th>\n",
       "      <td>24</td>\n",
       "    </tr>\n",
       "    <tr>\n",
       "      <th>4.0</th>\n",
       "      <td>111</td>\n",
       "    </tr>\n",
       "    <tr>\n",
       "      <th>5.0</th>\n",
       "      <td>37</td>\n",
       "    </tr>\n",
       "    <tr>\n",
       "      <th>6.0</th>\n",
       "      <td>31</td>\n",
       "    </tr>\n",
       "    <tr>\n",
       "      <th>7.0</th>\n",
       "      <td>17</td>\n",
       "    </tr>\n",
       "    <tr>\n",
       "      <th>8.0</th>\n",
       "      <td>24</td>\n",
       "    </tr>\n",
       "    <tr>\n",
       "      <th>9.0</th>\n",
       "      <td>48</td>\n",
       "    </tr>\n",
       "    <tr>\n",
       "      <th>11.0</th>\n",
       "      <td>3</td>\n",
       "    </tr>\n",
       "    <tr>\n",
       "      <th>13.0</th>\n",
       "      <td>8</td>\n",
       "    </tr>\n",
       "    <tr>\n",
       "      <th>14.0</th>\n",
       "      <td>1</td>\n",
       "    </tr>\n",
       "    <tr>\n",
       "      <th>16.0</th>\n",
       "      <td>1</td>\n",
       "    </tr>\n",
       "    <tr>\n",
       "      <th>17.0</th>\n",
       "      <td>1</td>\n",
       "    </tr>\n",
       "    <tr>\n",
       "      <th>22.0</th>\n",
       "      <td>1</td>\n",
       "    </tr>\n",
       "  </tbody>\n",
       "</table>\n",
       "</div>"
      ],
      "text/plain": [
       "col_0        count\n",
       "m_checkouts       \n",
       "0.0          37075\n",
       "1.0            340\n",
       "2.0             94\n",
       "3.0             24\n",
       "4.0            111\n",
       "5.0             37\n",
       "6.0             31\n",
       "7.0             17\n",
       "8.0             24\n",
       "9.0             48\n",
       "11.0             3\n",
       "13.0             8\n",
       "14.0             1\n",
       "16.0             1\n",
       "17.0             1\n",
       "22.0             1"
      ]
     },
     "execution_count": 170,
     "metadata": {},
     "output_type": "execute_result"
    }
   ],
   "source": [
    "pd.crosstab(index = listings_NoLastBooked.m_checkouts, columns=\"count\")"
   ]
  },
  {
   "cell_type": "markdown",
   "metadata": {},
   "source": [
    "The large mayority except for a few listings that may have been booked and then cancelled. "
   ]
  },
  {
   "cell_type": "markdown",
   "metadata": {},
   "source": [
    "So with these listings that has never had a booking, if I have time, I'll create a separate model as some of the listing features may not apply, like ratings, previous price, etc. I'll differentiate these listings with the binary variable **`first_booking`**."
   ]
  },
  {
   "cell_type": "code",
   "execution_count": 33,
   "metadata": {
    "collapsed": false
   },
   "outputs": [],
   "source": [
    "data['first_booking'] = data['days_since_last_booking'].notnull()\n",
    "data['first_booking'] = [not i for i in data['first_booking']]   #Flip the boolean value"
   ]
  },
  {
   "cell_type": "markdown",
   "metadata": {},
   "source": [
    "Let's now look at **`image_quality_score`**. "
   ]
  },
  {
   "cell_type": "code",
   "execution_count": 34,
   "metadata": {
    "collapsed": false
   },
   "outputs": [
    {
     "data": {
      "text/plain": [
       "count    170268.000000\n",
       "mean          0.562056\n",
       "std           0.306840\n",
       "min           0.000000\n",
       "25%           0.300549\n",
       "50%           0.577958\n",
       "75%           0.853520\n",
       "max           0.999996\n",
       "Name: image_quality_score, dtype: float64"
      ]
     },
     "execution_count": 34,
     "metadata": {},
     "output_type": "execute_result"
    }
   ],
   "source": [
    "data['image_quality_score'][~np.isnan(data['image_quality_score'])].describe()"
   ]
  },
  {
   "cell_type": "code",
   "execution_count": 172,
   "metadata": {
    "collapsed": false
   },
   "outputs": [
    {
     "data": {
      "image/png": "[encoded data removed]",
      "text/plain": [
       "<matplotlib.figure.Figure at 0x11c04df90>"
      ]
     },
     "metadata": {},
     "output_type": "display_data"
    }
   ],
   "source": [
    "sns.boxplot(data['image_quality_score'])\n",
    "sns.despine()"
   ]
  },
  {
   "cell_type": "markdown",
   "metadata": {},
   "source": [
    "I'm going to assume that those listings with no value in image_quality_score have no photos, so I'll assign a 0 value to every NaN. \n"
   ]
  },
  {
   "cell_type": "code",
   "execution_count": 39,
   "metadata": {
    "collapsed": true
   },
   "outputs": [],
   "source": [
    "data.image_quality_score = data.image_quality_score.fillna(0)"
   ]
  },
  {
   "cell_type": "markdown",
   "metadata": {},
   "source": [
    "For the variables related to **Occupancy**, given that these have less than 1% of missing values, we can impute these with the mean for the float variables, and with the mode for the integer variables. \n",
    "- ds_checkin_gap: 2787 \n",
    "- ds_checkout_gap: 2787\n",
    "- occ_occupancy_plus_minus_7_ds_night: 2780 \n",
    "- occ_occupancy_plus_minus_14_ds_night: 2782\n",
    "- occ_occupancy_trailing_90_ds"
   ]
  },
  {
   "cell_type": "code",
   "execution_count": 40,
   "metadata": {
    "collapsed": false
   },
   "outputs": [
    {
     "data": {
      "text/plain": [
       "count    182058.000000\n",
       "mean          6.123241\n",
       "std           2.041068\n",
       "min           0.000000\n",
       "25%           7.000000\n",
       "50%           7.000000\n",
       "75%           7.000000\n",
       "max           7.000000\n",
       "Name: ds_checkout_gap, dtype: float64"
      ]
     },
     "execution_count": 40,
     "metadata": {},
     "output_type": "execute_result"
    }
   ],
   "source": [
    "data['ds_checkout_gap'][~np.isnan(data['ds_checkout_gap'])].describe()"
   ]
  },
  {
   "cell_type": "markdown",
   "metadata": {},
   "source": [
    "`ds_checkout_gap` is very skewed to the right. "
   ]
  },
  {
   "cell_type": "code",
   "execution_count": 67,
   "metadata": {
    "collapsed": false
   },
   "outputs": [
    {
     "data": {
      "text/plain": [
       "count    2780.000000\n",
       "mean        0.100717\n",
       "std         0.207606\n",
       "min         0.000000\n",
       "25%         0.000000\n",
       "50%         0.000000\n",
       "75%         0.066667\n",
       "max         1.000000\n",
       "Name: occ_occupancy_plus_minus_7_ds_night, dtype: float64"
      ]
     },
     "execution_count": 67,
     "metadata": {},
     "output_type": "execute_result"
    }
   ],
   "source": [
    "data['occ_occupancy_plus_minus_7_ds_night'][~np.isnan(data['occ_occupancy_plus_minus_7_ds_night'])].describe()"
   ]
  },
  {
   "cell_type": "code",
   "execution_count": 68,
   "metadata": {
    "collapsed": false
   },
   "outputs": [
    {
     "data": {
      "text/plain": [
       "count    2782.000000\n",
       "mean        0.124734\n",
       "std         0.220647\n",
       "min         0.000000\n",
       "25%         0.000000\n",
       "50%         0.000000\n",
       "75%         0.172414\n",
       "max         1.000000\n",
       "Name: occ_occupancy_plus_minus_14_ds_night, dtype: float64"
      ]
     },
     "execution_count": 68,
     "metadata": {},
     "output_type": "execute_result"
    }
   ],
   "source": [
    "data['occ_occupancy_plus_minus_14_ds_night'][~np.isnan(data['occ_occupancy_plus_minus_14_ds_night'])].describe()"
   ]
  },
  {
   "cell_type": "code",
   "execution_count": 69,
   "metadata": {
    "collapsed": false
   },
   "outputs": [
    {
     "data": {
      "text/plain": [
       "count    2601.000000\n",
       "mean        0.273488\n",
       "std         0.308139\n",
       "min         0.000000\n",
       "25%         0.000000\n",
       "50%         0.144737\n",
       "75%         0.511111\n",
       "max         1.000000\n",
       "Name: occ_occupancy_trailing_90_ds, dtype: float64"
      ]
     },
     "execution_count": 69,
     "metadata": {},
     "output_type": "execute_result"
    }
   ],
   "source": [
    "data['occ_occupancy_trailing_90_ds'][~np.isnan(data['occ_occupancy_trailing_90_ds'])].describe()"
   ]
  },
  {
   "cell_type": "markdown",
   "metadata": {},
   "source": [
    "All measures of occupancy rate are concentrated around 0.10 - 0.27"
   ]
  },
  {
   "cell_type": "code",
   "execution_count": 70,
   "metadata": {
    "collapsed": false
   },
   "outputs": [
    {
     "data": {
      "text/plain": [
       "<matplotlib.axes._subplots.AxesSubplot at 0x11c473c50>"
      ]
     },
     "execution_count": 70,
     "metadata": {},
     "output_type": "execute_result"
    },
    {
     "data": {
      "image/png": "[encoded data removed]",
      "text/plain": [
       "<matplotlib.figure.Figure at 0x11ca8c890>"
      ]
     },
     "metadata": {},
     "output_type": "display_data"
    }
   ],
   "source": [
    "sns.boxplot(data['listing_m_listing_views_2_6_ds_night_decay'])"
   ]
  },
  {
   "cell_type": "code",
   "execution_count": 72,
   "metadata": {
    "collapsed": false
   },
   "outputs": [
    {
     "data": {
      "text/plain": [
       "0.10071662051438852"
      ]
     },
     "execution_count": 72,
     "metadata": {},
     "output_type": "execute_result"
    }
   ],
   "source": [
    "# calculate the mean of occ_occupancy_plus_minus_7_ds_night\n",
    "data['occ_occupancy_plus_minus_7_ds_night'].mean()"
   ]
  },
  {
   "cell_type": "code",
   "execution_count": 43,
   "metadata": {
    "collapsed": true
   },
   "outputs": [],
   "source": [
    "# Impute the Mean to NaN's\n",
    "data['occ_occupancy_plus_minus_7_ds_night'] = data['occ_occupancy_plus_minus_7_ds_night'].fillna(data['occ_occupancy_plus_minus_7_ds_night'].mean())\n",
    "data['occ_occupancy_plus_minus_14_ds_night'] = data['occ_occupancy_plus_minus_14_ds_night'].fillna(data['occ_occupancy_plus_minus_14_ds_night'].mean())\n",
    "data['occ_occupancy_trailing_90_ds'] = data['occ_occupancy_trailing_90_ds'].fillna(data['occ_occupancy_trailing_90_ds'].mean())\n",
    "data['listing_m_listing_views_2_6_ds_night_decay'] = data['listing_m_listing_views_2_6_ds_night_decay'].fillna(data['listing_m_listing_views_2_6_ds_night_decay'].mean())"
   ]
  },
  {
   "cell_type": "code",
   "execution_count": 44,
   "metadata": {
    "collapsed": false
   },
   "outputs": [
    {
     "data": {
      "text/plain": [
       "7.0"
      ]
     },
     "execution_count": 44,
     "metadata": {},
     "output_type": "execute_result"
    }
   ],
   "source": [
    "# Calculate the median of ds_checkin_gap\n",
    "data['ds_checkin_gap'].median()"
   ]
  },
  {
   "cell_type": "code",
   "execution_count": 42,
   "metadata": {
    "collapsed": false
   },
   "outputs": [],
   "source": [
    "# Impute the Median to NaN's\n",
    "data['ds_checkin_gap'] = data['ds_checkin_gap'].fillna(data['ds_checkin_gap'].median())\n",
    "data['ds_checkout_gap'] = data['ds_checkout_gap'].fillna(data['ds_checkout_gap'].median())\n",
    "data['m_minimum_nights'] = data['m_minimum_nights'].fillna(data['m_minimum_nights'].median())\n",
    "data['m_maximum_nights'] = data['m_maximum_nights'].fillna(data['m_maximum_nights'].median())"
   ]
  },
  {
   "cell_type": "code",
   "execution_count": 47,
   "metadata": {
    "collapsed": false
   },
   "outputs": [
    {
     "data": {
      "text/plain": [
       "p3_inquiry_score                                    70.159921\n",
       "p2_p3_click_through_score                           68.976932\n",
       "price_booked_most_recent                            20.531911\n",
       "days_since_last_booking                             20.531911\n",
       "r_kdt_m_effective_daily_price_booked_n100_p50        7.040954\n",
       "m_checkouts                                          0.101477\n",
       "m_professional_pictures                              0.101477\n",
       "m_total_overall_rating                               0.101477\n",
       "m_reviews                                            0.101477\n",
       "r_kdt_m_effective_daily_price_available_n100_p50     0.009225\n",
       "r_kdt_m_effective_daily_price_n100_p50               0.000543\n",
       "r_kdt_n_available_n100                               0.000543\n",
       "r_kdt_n_active_n100                                  0.000543\n",
       "r_kdt_listing_views_0_6_avg_n100                     0.000543\n",
       "dtype: float64"
      ]
     },
     "execution_count": 47,
     "metadata": {},
     "output_type": "execute_result"
    }
   ],
   "source": [
    "missing = data.apply(lambda x: sum(x.isnull()),axis=0).sort_values(ascending = False)\n",
    "missing[missing>0] / data.shape[0]*100"
   ]
  },
  {
   "cell_type": "code",
   "execution_count": null,
   "metadata": {
    "collapsed": true
   },
   "outputs": [],
   "source": [
    "data_pre_eda = data\n",
    "data = drop(['p3_inquiry_score'], axis=1)\n",
    "data = drop(['p2_p3_click_through_score'], axis=1)\n",
    "#divide data by new and former listings:\n",
    "data_former = data[]"
   ]
  },
  {
   "cell_type": "code",
   "execution_count": 51,
   "metadata": {
    "collapsed": false
   },
   "outputs": [],
   "source": [
    "#Assign 9999 to the NA's for these 2 variables. That's how we'll identify new listings from old listings:\n",
    "data.price_booked_most_recent = data.price_booked_most_recent.fillna(9999)\n",
    "data.days_since_last_booking = data.days_since_last_booking.fillna(9999)"
   ]
  },
  {
   "cell_type": "code",
   "execution_count": 52,
   "metadata": {
    "collapsed": true
   },
   "outputs": [],
   "source": [
    "#divide data by new and former listings:\n",
    "data_new = data[data.price_booked_most_recent == 9999]\n",
    "data_former = data[data.price_booked_most_recent <> 9999]"
   ]
  },
  {
   "cell_type": "code",
   "execution_count": 53,
   "metadata": {
    "collapsed": false
   },
   "outputs": [
    {
     "data": {
      "text/plain": [
       "p3_inquiry_score                                    68.675184\n",
       "p2_p3_click_through_score                           67.598998\n",
       "r_kdt_m_effective_daily_price_booked_n100_p50        6.250213\n",
       "m_checkouts                                          0.114038\n",
       "m_professional_pictures                              0.114038\n",
       "m_total_overall_rating                               0.114038\n",
       "m_reviews                                            0.114038\n",
       "r_kdt_m_effective_daily_price_available_n100_p50     0.008877\n",
       "dtype: float64"
      ]
     },
     "execution_count": 53,
     "metadata": {},
     "output_type": "execute_result"
    }
   ],
   "source": [
    "data = data_former\n",
    "missing = data.apply(lambda x: sum(x.isnull()),axis=0).sort_values(ascending = False)\n",
    "missing[missing>0] / data.shape[0]*100"
   ]
  },
  {
   "cell_type": "code",
   "execution_count": 54,
   "metadata": {
    "collapsed": true
   },
   "outputs": [],
   "source": [
    "data = data.drop(['p3_inquiry_score'], axis=1)\n",
    "data = data.drop(['p2_p3_click_through_score'], axis=1)"
   ]
  },
  {
   "cell_type": "code",
   "execution_count": 55,
   "metadata": {
    "collapsed": true
   },
   "outputs": [],
   "source": [
    "# remove the rows with nulls\n",
    "data.r_kdt_m_effective_daily_price_booked_n100_p50 = data.r_kdt_m_effective_daily_price_booked_n100_p50.fillna(9999)\n",
    "data.m_checkouts = data.m_checkouts.fillna(9999)\n",
    "data.m_professional_pictures = data.m_professional_pictures.fillna(9999)\n",
    "data.m_total_overall_rating = data.m_total_overall_rating.fillna(9999)\n",
    "data.m_reviews = data.m_reviews.fillna(9999)\n",
    "data.r_kdt_m_effective_daily_price_available_n100_p50 = data.r_kdt_m_effective_daily_price_available_n100_p50.fillna(9999)\n",
    "\n",
    "data= data[data.r_kdt_m_effective_daily_price_booked_n100_p50 <> 9999]\n",
    "data= data[data.m_checkouts <> 9999]\n",
    "data= data[data.m_professional_pictures <> 9999]\n",
    "data= data[data.m_total_overall_rating <> 9999]\n",
    "data= data[data.m_reviews <> 9999]\n",
    "data= data[data.r_kdt_m_effective_daily_price_available_n100_p50 <> 9999]\n"
   ]
  },
  {
   "cell_type": "code",
   "execution_count": 56,
   "metadata": {
    "collapsed": false
   },
   "outputs": [
    {
     "data": {
      "text/plain": [
       "Series([], dtype: float64)"
      ]
     },
     "execution_count": 56,
     "metadata": {},
     "output_type": "execute_result"
    }
   ],
   "source": [
    "missing = data.apply(lambda x: sum(x.isnull()),axis=0).sort_values(ascending = False)\n",
    "missing[missing>0] / data.shape[0]*100"
   ]
  },
  {
   "cell_type": "markdown",
   "metadata": {},
   "source": [
    "### Exploratory Data Analysis"
   ]
  },
  {
   "cell_type": "markdown",
   "metadata": {},
   "source": [
    "**`ds_night`**"
   ]
  },
  {
   "cell_type": "markdown",
   "metadata": {},
   "source": [
    "Calculate the percentage of listings booked by date"
   ]
  },
  {
   "cell_type": "code",
   "execution_count": 57,
   "metadata": {
    "collapsed": false
   },
   "outputs": [
    {
     "data": {
      "text/html": [
       "<div>\n",
       "<table border=\"1\" class=\"dataframe\">\n",
       "  <thead>\n",
       "    <tr style=\"text-align: right;\">\n",
       "      <th>ds_night</th>\n",
       "      <th>2015-01-01 00:00:00</th>\n",
       "      <th>2015-01-02 00:00:00</th>\n",
       "      <th>2015-01-03 00:00:00</th>\n",
       "      <th>2015-01-04 00:00:00</th>\n",
       "      <th>2015-01-05 00:00:00</th>\n",
       "      <th>2015-01-06 00:00:00</th>\n",
       "      <th>2015-01-07 00:00:00</th>\n",
       "      <th>2015-01-08 00:00:00</th>\n",
       "      <th>2015-01-09 00:00:00</th>\n",
       "      <th>2015-01-10 00:00:00</th>\n",
       "      <th>...</th>\n",
       "      <th>2015-12-21 00:00:00</th>\n",
       "      <th>2015-12-22 00:00:00</th>\n",
       "      <th>2015-12-23 00:00:00</th>\n",
       "      <th>2015-12-24 00:00:00</th>\n",
       "      <th>2015-12-25 00:00:00</th>\n",
       "      <th>2015-12-26 00:00:00</th>\n",
       "      <th>2015-12-27 00:00:00</th>\n",
       "      <th>2015-12-28 00:00:00</th>\n",
       "      <th>2015-12-29 00:00:00</th>\n",
       "      <th>2015-12-30 00:00:00</th>\n",
       "    </tr>\n",
       "  </thead>\n",
       "  <tbody>\n",
       "    <tr>\n",
       "      <th>not booked</th>\n",
       "      <td>0.529586</td>\n",
       "      <td>0.68262</td>\n",
       "      <td>0.70362</td>\n",
       "      <td>0.767123</td>\n",
       "      <td>0.801688</td>\n",
       "      <td>0.720824</td>\n",
       "      <td>0.769932</td>\n",
       "      <td>0.770563</td>\n",
       "      <td>0.711497</td>\n",
       "      <td>0.732584</td>\n",
       "      <td>...</td>\n",
       "      <td>0.754762</td>\n",
       "      <td>0.761905</td>\n",
       "      <td>0.801887</td>\n",
       "      <td>0.741071</td>\n",
       "      <td>0.740476</td>\n",
       "      <td>0.770202</td>\n",
       "      <td>0.70892</td>\n",
       "      <td>0.68254</td>\n",
       "      <td>0.630208</td>\n",
       "      <td>0.60582</td>\n",
       "    </tr>\n",
       "    <tr>\n",
       "      <th>booked</th>\n",
       "      <td>0.470414</td>\n",
       "      <td>0.31738</td>\n",
       "      <td>0.29638</td>\n",
       "      <td>0.232877</td>\n",
       "      <td>0.198312</td>\n",
       "      <td>0.279176</td>\n",
       "      <td>0.230068</td>\n",
       "      <td>0.229437</td>\n",
       "      <td>0.288503</td>\n",
       "      <td>0.267416</td>\n",
       "      <td>...</td>\n",
       "      <td>0.245238</td>\n",
       "      <td>0.238095</td>\n",
       "      <td>0.198113</td>\n",
       "      <td>0.258929</td>\n",
       "      <td>0.259524</td>\n",
       "      <td>0.229798</td>\n",
       "      <td>0.29108</td>\n",
       "      <td>0.31746</td>\n",
       "      <td>0.369792</td>\n",
       "      <td>0.39418</td>\n",
       "    </tr>\n",
       "  </tbody>\n",
       "</table>\n",
       "<p>2 rows × 364 columns</p>\n",
       "</div>"
      ],
      "text/plain": [
       "ds_night    2015-01-01  2015-01-02  2015-01-03  2015-01-04  2015-01-05  \\\n",
       "not booked    0.529586     0.68262     0.70362    0.767123    0.801688   \n",
       "booked        0.470414     0.31738     0.29638    0.232877    0.198312   \n",
       "\n",
       "ds_night    2015-01-06  2015-01-07  2015-01-08  2015-01-09  2015-01-10  \\\n",
       "not booked    0.720824    0.769932    0.770563    0.711497    0.732584   \n",
       "booked        0.279176    0.230068    0.229437    0.288503    0.267416   \n",
       "\n",
       "ds_night       ...      2015-12-21  2015-12-22  2015-12-23  2015-12-24  \\\n",
       "not booked     ...        0.754762    0.761905    0.801887    0.741071   \n",
       "booked         ...        0.245238    0.238095    0.198113    0.258929   \n",
       "\n",
       "ds_night    2015-12-25  2015-12-26  2015-12-27  2015-12-28  2015-12-29  \\\n",
       "not booked    0.740476    0.770202     0.70892     0.68254    0.630208   \n",
       "booked        0.259524    0.229798     0.29108     0.31746    0.369792   \n",
       "\n",
       "ds_night    2015-12-30  \n",
       "not booked     0.60582  \n",
       "booked         0.39418  \n",
       "\n",
       "[2 rows x 364 columns]"
      ]
     },
     "execution_count": 57,
     "metadata": {},
     "output_type": "execute_result"
    }
   ],
   "source": [
    "df_ct1 = pd.crosstab(index = data[\"dim_is_requested\"], columns =  data[\"ds_night\"]).apply(lambda r: r/r.sum(), axis=0)\n",
    "df_ct1.index = [\"not booked\", \"booked\"]\n",
    "df_ct1"
   ]
  },
  {
   "cell_type": "code",
   "execution_count": 58,
   "metadata": {
    "collapsed": false
   },
   "outputs": [
    {
     "data": {
      "text/html": [
       "<div>\n",
       "<table border=\"1\" class=\"dataframe\">\n",
       "  <thead>\n",
       "    <tr style=\"text-align: right;\">\n",
       "      <th>ds_night_day_of_week</th>\n",
       "      <th>0</th>\n",
       "      <th>1</th>\n",
       "      <th>2</th>\n",
       "      <th>3</th>\n",
       "      <th>4</th>\n",
       "      <th>5</th>\n",
       "      <th>6</th>\n",
       "    </tr>\n",
       "  </thead>\n",
       "  <tbody>\n",
       "    <tr>\n",
       "      <th>not booked</th>\n",
       "      <td>0.630167</td>\n",
       "      <td>0.634342</td>\n",
       "      <td>0.626262</td>\n",
       "      <td>0.614533</td>\n",
       "      <td>0.595332</td>\n",
       "      <td>0.574138</td>\n",
       "      <td>0.573169</td>\n",
       "    </tr>\n",
       "    <tr>\n",
       "      <th>booked</th>\n",
       "      <td>0.369833</td>\n",
       "      <td>0.365658</td>\n",
       "      <td>0.373738</td>\n",
       "      <td>0.385467</td>\n",
       "      <td>0.404668</td>\n",
       "      <td>0.425862</td>\n",
       "      <td>0.426831</td>\n",
       "    </tr>\n",
       "  </tbody>\n",
       "</table>\n",
       "</div>"
      ],
      "text/plain": [
       "ds_night_day_of_week         0         1         2         3         4  \\\n",
       "not booked            0.630167  0.634342  0.626262  0.614533  0.595332   \n",
       "booked                0.369833  0.365658  0.373738  0.385467  0.404668   \n",
       "\n",
       "ds_night_day_of_week         5         6  \n",
       "not booked            0.574138  0.573169  \n",
       "booked                0.425862  0.426831  "
      ]
     },
     "execution_count": 58,
     "metadata": {},
     "output_type": "execute_result"
    }
   ],
   "source": [
    "df_ct1 = pd.crosstab(index = data[\"dim_is_requested\"], columns = data[\"ds_night_day_of_week\"]).apply(lambda r: r/r.sum(), axis=0)\n",
    "df_ct1.index = [\"not booked\", \"booked\"]\n",
    "df_ct1"
   ]
  },
  {
   "cell_type": "markdown",
   "metadata": {},
   "source": [
    "For San Francisco"
   ]
  },
  {
   "cell_type": "code",
   "execution_count": 71,
   "metadata": {
    "collapsed": false
   },
   "outputs": [
    {
     "data": {
      "text/html": [
       "<div>\n",
       "<table border=\"1\" class=\"dataframe\">\n",
       "  <thead>\n",
       "    <tr style=\"text-align: right;\">\n",
       "      <th>ds_night_day_of_week</th>\n",
       "      <th>0</th>\n",
       "      <th>1</th>\n",
       "      <th>2</th>\n",
       "      <th>3</th>\n",
       "      <th>4</th>\n",
       "      <th>5</th>\n",
       "      <th>6</th>\n",
       "    </tr>\n",
       "  </thead>\n",
       "  <tbody>\n",
       "    <tr>\n",
       "      <th>not booked</th>\n",
       "      <td>0.511439</td>\n",
       "      <td>0.523256</td>\n",
       "      <td>0.487073</td>\n",
       "      <td>0.474134</td>\n",
       "      <td>0.48076</td>\n",
       "      <td>0.485728</td>\n",
       "      <td>0.485344</td>\n",
       "    </tr>\n",
       "    <tr>\n",
       "      <th>booked</th>\n",
       "      <td>0.488561</td>\n",
       "      <td>0.476744</td>\n",
       "      <td>0.512927</td>\n",
       "      <td>0.525866</td>\n",
       "      <td>0.51924</td>\n",
       "      <td>0.514272</td>\n",
       "      <td>0.514656</td>\n",
       "    </tr>\n",
       "  </tbody>\n",
       "</table>\n",
       "</div>"
      ],
      "text/plain": [
       "ds_night_day_of_week         0         1         2         3        4  \\\n",
       "not booked            0.511439  0.523256  0.487073  0.474134  0.48076   \n",
       "booked                0.488561  0.476744  0.512927  0.525866  0.51924   \n",
       "\n",
       "ds_night_day_of_week         5         6  \n",
       "not booked            0.485728  0.485344  \n",
       "booked                0.514272  0.514656  "
      ]
     },
     "execution_count": 71,
     "metadata": {},
     "output_type": "execute_result"
    }
   ],
   "source": [
    "datasf = data[data[\"dim_market\"] == 'San Francisco']\n",
    "df_ctsf = pd.crosstab(index = datasf[\"dim_is_requested\"], columns = datasf[\"ds_night_day_of_week\"]).apply(lambda r: r/r.sum(), axis=0)\n",
    "df_ctsf.index = [\"not booked\", \"booked\"]\n",
    "df_ctsf"
   ]
  },
  {
   "cell_type": "markdown",
   "metadata": {},
   "source": [
    "For Los Angeles"
   ]
  },
  {
   "cell_type": "code",
   "execution_count": 72,
   "metadata": {
    "collapsed": false
   },
   "outputs": [
    {
     "data": {
      "text/html": [
       "<div>\n",
       "<table border=\"1\" class=\"dataframe\">\n",
       "  <thead>\n",
       "    <tr style=\"text-align: right;\">\n",
       "      <th>ds_night_day_of_week</th>\n",
       "      <th>0</th>\n",
       "      <th>1</th>\n",
       "      <th>2</th>\n",
       "      <th>3</th>\n",
       "      <th>4</th>\n",
       "      <th>5</th>\n",
       "      <th>6</th>\n",
       "    </tr>\n",
       "  </thead>\n",
       "  <tbody>\n",
       "    <tr>\n",
       "      <th>not booked</th>\n",
       "      <td>0.543588</td>\n",
       "      <td>0.564112</td>\n",
       "      <td>0.551227</td>\n",
       "      <td>0.54698</td>\n",
       "      <td>0.515991</td>\n",
       "      <td>0.47083</td>\n",
       "      <td>0.464014</td>\n",
       "    </tr>\n",
       "    <tr>\n",
       "      <th>booked</th>\n",
       "      <td>0.456412</td>\n",
       "      <td>0.435888</td>\n",
       "      <td>0.448773</td>\n",
       "      <td>0.45302</td>\n",
       "      <td>0.484009</td>\n",
       "      <td>0.52917</td>\n",
       "      <td>0.535986</td>\n",
       "    </tr>\n",
       "  </tbody>\n",
       "</table>\n",
       "</div>"
      ],
      "text/plain": [
       "ds_night_day_of_week         0         1         2        3         4  \\\n",
       "not booked            0.543588  0.564112  0.551227  0.54698  0.515991   \n",
       "booked                0.456412  0.435888  0.448773  0.45302  0.484009   \n",
       "\n",
       "ds_night_day_of_week        5         6  \n",
       "not booked            0.47083  0.464014  \n",
       "booked                0.52917  0.535986  "
      ]
     },
     "execution_count": 72,
     "metadata": {},
     "output_type": "execute_result"
    }
   ],
   "source": [
    "datala = data[data[\"dim_market\"] == 'Los Angeles']\n",
    "df_ctla = pd.crosstab(index = datala[\"dim_is_requested\"], columns = datala[\"ds_night_day_of_week\"]).apply(lambda r: r/r.sum(), axis=0)\n",
    "df_ctla.index = [\"not booked\", \"booked\"]\n",
    "df_ctla"
   ]
  },
  {
   "cell_type": "markdown",
   "metadata": {},
   "source": [
    "For Paris:"
   ]
  },
  {
   "cell_type": "code",
   "execution_count": 73,
   "metadata": {
    "collapsed": false
   },
   "outputs": [
    {
     "data": {
      "text/html": [
       "<div>\n",
       "<table border=\"1\" class=\"dataframe\">\n",
       "  <thead>\n",
       "    <tr style=\"text-align: right;\">\n",
       "      <th>ds_night_day_of_week</th>\n",
       "      <th>0</th>\n",
       "      <th>1</th>\n",
       "      <th>2</th>\n",
       "      <th>3</th>\n",
       "      <th>4</th>\n",
       "      <th>5</th>\n",
       "      <th>6</th>\n",
       "    </tr>\n",
       "  </thead>\n",
       "  <tbody>\n",
       "    <tr>\n",
       "      <th>not booked</th>\n",
       "      <td>0.693059</td>\n",
       "      <td>0.689708</td>\n",
       "      <td>0.689851</td>\n",
       "      <td>0.674469</td>\n",
       "      <td>0.654458</td>\n",
       "      <td>0.63768</td>\n",
       "      <td>0.640536</td>\n",
       "    </tr>\n",
       "    <tr>\n",
       "      <th>booked</th>\n",
       "      <td>0.306941</td>\n",
       "      <td>0.310292</td>\n",
       "      <td>0.310149</td>\n",
       "      <td>0.325531</td>\n",
       "      <td>0.345542</td>\n",
       "      <td>0.36232</td>\n",
       "      <td>0.359464</td>\n",
       "    </tr>\n",
       "  </tbody>\n",
       "</table>\n",
       "</div>"
      ],
      "text/plain": [
       "ds_night_day_of_week         0         1         2         3         4  \\\n",
       "not booked            0.693059  0.689708  0.689851  0.674469  0.654458   \n",
       "booked                0.306941  0.310292  0.310149  0.325531  0.345542   \n",
       "\n",
       "ds_night_day_of_week        5         6  \n",
       "not booked            0.63768  0.640536  \n",
       "booked                0.36232  0.359464  "
      ]
     },
     "execution_count": 73,
     "metadata": {},
     "output_type": "execute_result"
    }
   ],
   "source": [
    "datapa = data[data[\"dim_market\"] == 'Paris']\n",
    "df_ctpa = pd.crosstab(index = datapa[\"dim_is_requested\"], columns = datapa[\"ds_night_day_of_week\"]).apply(lambda r: r/r.sum(), axis=0)\n",
    "df_ctpa.index = [\"not booked\", \"booked\"]\n",
    "df_ctpa"
   ]
  },
  {
   "cell_type": "markdown",
   "metadata": {},
   "source": [
    "Overall can clearly see that there's a higher percentage of listings booked on Saturday (6) 4th of July (independence day), then Thursday (4), Wednesday (3) and Friday. Because of 4th of July holiday is during a weekend, many places in the US give Friday as holiday, which explains why Thursday July 2nd is the second most popular day after the 4th. \n",
    "\n",
    "- For SF, the higher percentage of bookings are on Saturday, Sunday and Monday. \n",
    "- For LA, the higher percentage of bookings are on Thursday, Friday, and Saturday. \n",
    "- For Paris, the higher percentage of bookings are on Wednesday, Thursday, and Saturday. "
   ]
  },
  {
   "cell_type": "markdown",
   "metadata": {},
   "source": [
    "**`dim_market`**"
   ]
  },
  {
   "cell_type": "code",
   "execution_count": 65,
   "metadata": {
    "collapsed": false
   },
   "outputs": [
    {
     "name": "stderr",
     "output_type": "stream",
     "text": [
      "/Users/iglopezfrancos/anaconda/lib/python2.7/site-packages/matplotlib/figure.py:1744: UserWarning: This figure includes Axes that are not compatible with tight_layout, so its results might be incorrect.\n",
      "  warnings.warn(\"This figure includes Axes that are not \"\n"
     ]
    },
    {
     "data": {
      "image/png": "[encoded data removed]",
      "text/plain": [
       "<matplotlib.figure.Figure at 0x12a0eea90>"
      ]
     },
     "metadata": {},
     "output_type": "display_data"
    }
   ],
   "source": [
    "plt.subplots(figsize=(10, 5), tight_layout=True)\n",
    "ax = sns.countplot(y=\"dim_market\", hue=\"dim_is_requested\", data=data, palette=\"Greens_d\")"
   ]
  },
  {
   "cell_type": "markdown",
   "metadata": {},
   "source": [
    "We can see that for the first week of July, Paris by far the city with most listings already booked. This makes sense as people tend to book in advance when they travel abroad than domestic."
   ]
  },
  {
   "cell_type": "markdown",
   "metadata": {},
   "source": [
    "**`dim_person_capacity`**"
   ]
  },
  {
   "cell_type": "code",
   "execution_count": 66,
   "metadata": {
    "collapsed": false
   },
   "outputs": [
    {
     "data": {
      "image/png": "[encoded data removed]",
      "text/plain": [
       "<matplotlib.figure.Figure at 0x118921a10>"
      ]
     },
     "metadata": {},
     "output_type": "display_data"
    }
   ],
   "source": [
    "plt.subplots(figsize=(10, 5), tight_layout=True)\n",
    "ax = sns.countplot(y=\"dim_person_capacity\", hue=\"dim_is_requested\", data=data, palette=\"Greens_d\")"
   ]
  },
  {
   "cell_type": "code",
   "execution_count": 67,
   "metadata": {
    "collapsed": false
   },
   "outputs": [
    {
     "data": {
      "image/png": "[encoded data removed]",
      "text/plain": [
       "<matplotlib.figure.Figure at 0x119c37910>"
      ]
     },
     "metadata": {},
     "output_type": "display_data"
    }
   ],
   "source": [
    "ax = sns.lmplot(x=\"dim_person_capacity\", y=\"m_effective_daily_price\", \\\n",
    "                data=data[(data['m_effective_daily_price']<3000)], x_jitter=.05);"
   ]
  },
  {
   "cell_type": "code",
   "execution_count": 70,
   "metadata": {
    "collapsed": false
   },
   "outputs": [
    {
     "data": {
      "image/png": "[encoded data removed]",
      "text/plain": [
       "<matplotlib.figure.Figure at 0x11b62de50>"
      ]
     },
     "metadata": {},
     "output_type": "display_data"
    }
   ],
   "source": [
    "ax = sns.lmplot(x=\"r_kdt_m_effective_daily_price_available_n100_p50\", y=\"m_effective_daily_price\", \\\n",
    "                data=data[(data['m_effective_daily_price']<3000)], x_jitter=.05);"
   ]
  },
  {
   "cell_type": "markdown",
   "metadata": {},
   "source": [
    "As expected, there's a clear positive correlation between number of rooms and listing average price. "
   ]
  },
  {
   "cell_type": "markdown",
   "metadata": {},
   "source": [
    "**`dim_has_wireless_internet`**"
   ]
  },
  {
   "cell_type": "code",
   "execution_count": 74,
   "metadata": {
    "collapsed": false
   },
   "outputs": [
    {
     "name": "stdout",
     "output_type": "stream",
     "text": [
      "dim_is_requested              False     True \n",
      "dim_has_wireless_internet                    \n",
      "0                          0.579882  0.420118\n",
      "1                          0.490748  0.509252\n"
     ]
    },
    {
     "data": {
      "text/plain": [
       "<matplotlib.axes._subplots.AxesSubplot at 0x11bf41250>"
      ]
     },
     "execution_count": 74,
     "metadata": {},
     "output_type": "execute_result"
    },
    {
     "data": {
      "image/png": "[encoded data removed]",
      "text/plain": [
       "<matplotlib.figure.Figure at 0x11b6fbed0>"
      ]
     },
     "metadata": {},
     "output_type": "display_data"
    }
   ],
   "source": [
    "wifi_ct = pd.crosstab(datasf['dim_has_wireless_internet'], datasf['dim_is_requested']).apply(lambda r: r/r.sum(), axis=1)\n",
    "print wifi_ct\n",
    "wifi_ct.plot(kind='bar', stacked=True, grid=False)"
   ]
  },
  {
   "cell_type": "markdown",
   "metadata": {},
   "source": [
    "Wifi is very important for guests travelling to SF. We can see that a listing with wifi hast twice the chance of being booked than one without it.  "
   ]
  },
  {
   "cell_type": "code",
   "execution_count": 75,
   "metadata": {
    "collapsed": false
   },
   "outputs": [
    {
     "name": "stdout",
     "output_type": "stream",
     "text": [
      "dim_is_requested              False     True \n",
      "dim_has_wireless_internet                    \n",
      "0                          0.744928  0.255072\n",
      "1                          0.518853  0.481147\n"
     ]
    },
    {
     "data": {
      "text/plain": [
       "<matplotlib.axes._subplots.AxesSubplot at 0x11bcaa690>"
      ]
     },
     "execution_count": 75,
     "metadata": {},
     "output_type": "execute_result"
    },
    {
     "data": {
      "image/png": "[encoded data removed]",
      "text/plain": [
       "<matplotlib.figure.Figure at 0x12227a290>"
      ]
     },
     "metadata": {},
     "output_type": "display_data"
    }
   ],
   "source": [
    "wifi_ct_la = pd.crosstab(datala['dim_has_wireless_internet'], datala['dim_is_requested']).apply(lambda r: r/r.sum(), axis=1)\n",
    "print wifi_ct_la\n",
    "wifi_ct_la.plot(kind='bar', stacked=True, grid=False)"
   ]
  },
  {
   "cell_type": "markdown",
   "metadata": {},
   "source": [
    "Similarly in LA. Only 10% of the bookings that have wifi have been booked, compared with 48%. "
   ]
  },
  {
   "cell_type": "code",
   "execution_count": 78,
   "metadata": {
    "collapsed": false
   },
   "outputs": [
    {
     "name": "stdout",
     "output_type": "stream",
     "text": [
      "dim_is_requested           False  True \n",
      "dim_has_wireless_internet              \n",
      "0                           3002   1119\n",
      "1                          51970  26158\n",
      "dim_is_requested              False     True \n",
      "dim_has_wireless_internet                    \n",
      "0                          0.728464  0.271536\n",
      "1                          0.665190  0.334810\n"
     ]
    },
    {
     "data": {
      "text/plain": [
       "<matplotlib.axes._subplots.AxesSubplot at 0x122eb4c50>"
      ]
     },
     "execution_count": 78,
     "metadata": {},
     "output_type": "execute_result"
    },
    {
     "data": {
      "image/png": "[encoded data removed]",
      "text/plain": [
       "<matplotlib.figure.Figure at 0x122ec5350>"
      ]
     },
     "metadata": {},
     "output_type": "display_data"
    }
   ],
   "source": [
    "print wifi_ct_pa\n",
    "wifi_ct_pa_r = wifi_ct_pa.apply(lambda r: r/r.sum(), axis=1)\n",
    "print wifi_ct_pa_r\n",
    "wifi_ct_pa_r.plot(kind='bar', stacked=True, grid=False)"
   ]
  },
  {
   "cell_type": "markdown",
   "metadata": {},
   "source": [
    "For Paris, having Wifi is still positively correlated with having wifi, but the difference is smaller. It's also true that there exist more listings that dont have wifi."
   ]
  },
  {
   "cell_type": "markdown",
   "metadata": {},
   "source": [
    "**`m_total_overall_rating`**"
   ]
  },
  {
   "cell_type": "code",
   "execution_count": 79,
   "metadata": {
    "collapsed": false
   },
   "outputs": [
    {
     "data": {
      "text/plain": [
       "count    137121.000000\n",
       "mean         60.932993\n",
       "std          94.430004\n",
       "min           0.000000\n",
       "25%           5.000000\n",
       "50%          25.000000\n",
       "75%          73.000000\n",
       "max        1313.000000\n",
       "Name: m_total_overall_rating, dtype: float64"
      ]
     },
     "execution_count": 79,
     "metadata": {},
     "output_type": "execute_result"
    }
   ],
   "source": [
    "data['m_total_overall_rating'].describe()"
   ]
  },
  {
   "cell_type": "code",
   "execution_count": 80,
   "metadata": {
    "collapsed": false
   },
   "outputs": [
    {
     "data": {
      "text/plain": [
       "<matplotlib.axes._subplots.AxesSubplot at 0x1290c6610>"
      ]
     },
     "execution_count": 80,
     "metadata": {},
     "output_type": "execute_result"
    },
    {
     "data": {
      "image/png": "[encoded data removed]",
      "text/plain": [
       "<matplotlib.figure.Figure at 0x1290d0c10>"
      ]
     },
     "metadata": {},
     "output_type": "display_data"
    }
   ],
   "source": [
    "data.m_total_overall_rating.hist(bins=100)"
   ]
  },
  {
   "cell_type": "code",
   "execution_count": 81,
   "metadata": {
    "collapsed": false
   },
   "outputs": [
    {
     "data": {
      "text/plain": [
       "<matplotlib.axes._subplots.AxesSubplot at 0x127d27290>"
      ]
     },
     "execution_count": 81,
     "metadata": {},
     "output_type": "execute_result"
    },
    {
     "data": {
      "image/png": "[encoded data removed]",
      "text/plain": [
       "<matplotlib.figure.Figure at 0x1181d3e50>"
      ]
     },
     "metadata": {},
     "output_type": "display_data"
    }
   ],
   "source": [
    "data[data['m_total_overall_rating']<100].m_total_overall_rating.hist(bins=50)"
   ]
  },
  {
   "cell_type": "code",
   "execution_count": 82,
   "metadata": {
    "collapsed": false
   },
   "outputs": [
    {
     "data": {
      "text/plain": [
       "0.13161368426426295"
      ]
     },
     "execution_count": 82,
     "metadata": {},
     "output_type": "execute_result"
    }
   ],
   "source": [
    "float(len(data[data.m_total_overall_rating==0])) / len(data)"
   ]
  },
  {
   "cell_type": "markdown",
   "metadata": {},
   "source": [
    "Very skewed to the left, with over 30% of listings with 0 ratings. "
   ]
  },
  {
   "cell_type": "markdown",
   "metadata": {},
   "source": [
    "### Feature Engineering"
   ]
  },
  {
   "cell_type": "markdown",
   "metadata": {},
   "source": [
    "In this section, I'll look into the type of variables and perform transformations and/or create new variables when considered."
   ]
  },
  {
   "cell_type": "code",
   "execution_count": 83,
   "metadata": {
    "collapsed": false
   },
   "outputs": [
    {
     "name": "stdout",
     "output_type": "stream",
     "text": [
      "<class 'pandas.core.frame.DataFrame'>\n",
      "Int64Index: 137121 entries, 0 to 184278\n",
      "Data columns (total 52 columns):\n",
      "dim_is_requested                                      137121 non-null bool\n",
      "ds_night                                              137121 non-null datetime64[ns]\n",
      "ds                                                    137121 non-null object\n",
      "id_listing_anon                                       137121 non-null category\n",
      "id_user_anon                                          137121 non-null category\n",
      "m_effective_daily_price                               137121 non-null float64\n",
      "m_pricing_cleaning_fee                                137121 non-null float64\n",
      "dim_market                                            137121 non-null category\n",
      "dim_lat                                               137121 non-null float64\n",
      "dim_lng                                               137121 non-null float64\n",
      "dim_room_type                                         137121 non-null category\n",
      "dim_person_capacity                                   137121 non-null int64\n",
      "dim_is_instant_bookable                               137121 non-null bool\n",
      "m_checkouts                                           137121 non-null float64\n",
      "m_reviews                                             137121 non-null float64\n",
      "days_since_last_booking                               137121 non-null float64\n",
      "cancel_policy                                         137121 non-null category\n",
      "image_quality_score                                   137121 non-null float64\n",
      "m_total_overall_rating                                137121 non-null float64\n",
      "m_professional_pictures                               137121 non-null float64\n",
      "dim_has_wireless_internet                             137121 non-null int64\n",
      "ds_night_day_of_week                                  137121 non-null category\n",
      "ds_night_day_of_year                                  137121 non-null category\n",
      "ds_checkin_gap                                        137121 non-null float64\n",
      "ds_checkout_gap                                       137121 non-null float64\n",
      "occ_occupancy_plus_minus_7_ds_night                   137121 non-null float64\n",
      "occ_occupancy_plus_minus_14_ds_night                  137121 non-null float64\n",
      "occ_occupancy_trailing_90_ds                          137121 non-null float64\n",
      "m_minimum_nights                                      137121 non-null float64\n",
      "m_maximum_nights                                      137121 non-null float64\n",
      "price_booked_most_recent                              137121 non-null float64\n",
      "listing_m_listing_views_2_6_ds_night_decay            137121 non-null float64\n",
      "general_market_m_unique_searchers_0_6_ds_night        137121 non-null float64\n",
      "general_market_m_contacts_0_6_ds_night                137121 non-null float64\n",
      "general_market_m_reservation_requests_0_6_ds_night    137121 non-null float64\n",
      "general_market_m_is_booked_0_6_ds_night               137121 non-null float64\n",
      "m_available_listings_ds_night                         137121 non-null int64\n",
      "kdt_score                                             137121 non-null float64\n",
      "r_kdt_listing_views_0_6_avg_n100                      137121 non-null float64\n",
      "r_kdt_n_active_n100                                   137121 non-null float64\n",
      "r_kdt_n_available_n100                                137121 non-null float64\n",
      "r_kdt_m_effective_daily_price_n100_p50                137121 non-null float64\n",
      "r_kdt_m_effective_daily_price_available_n100_p50      137121 non-null float64\n",
      "r_kdt_m_effective_daily_price_booked_n100_p50         137121 non-null float64\n",
      "list_count                                            137121 non-null int64\n",
      "has_cleaning_fee                                      137121 non-null int64\n",
      "market_lat                                            137121 non-null float64\n",
      "market_lon                                            137121 non-null float64\n",
      "distance_from_downtown                                137121 non-null float64\n",
      "has_prof_pic                                          137121 non-null int64\n",
      "has_rating                                            137121 non-null int64\n",
      "first_booking                                         137121 non-null bool\n",
      "dtypes: bool(3), category(7), datetime64[ns](1), float64(33), int64(7), object(1)\n",
      "memory usage: 46.8+ MB\n"
     ]
    }
   ],
   "source": [
    "data.info()"
   ]
  },
  {
   "cell_type": "markdown",
   "metadata": {},
   "source": [
    "Some users may have multiple listings. It seems intuitive that users with more than one listing should have more expertise as a host and this could be a factor of the quality of the listing. Let's calculate a feature that indicates number of listings that user has. \n",
    "\n",
    "We'll call this variable **`list_count`**"
   ]
  },
  {
   "cell_type": "code",
   "execution_count": 84,
   "metadata": {
    "collapsed": false
   },
   "outputs": [],
   "source": [
    "user_listings = pd.DataFrame({'list_count':  data.drop_duplicates(['id_user_anon', 'id_listing_anon']).groupby('id_user_anon').size()}).reset_index()"
   ]
  },
  {
   "cell_type": "code",
   "execution_count": 9,
   "metadata": {
    "collapsed": false
   },
   "outputs": [
    {
     "data": {
      "text/html": [
       "<div>\n",
       "<table border=\"1\" class=\"dataframe\">\n",
       "  <thead>\n",
       "    <tr style=\"text-align: right;\">\n",
       "      <th></th>\n",
       "      <th>id_user_anon</th>\n",
       "      <th>list_count</th>\n",
       "    </tr>\n",
       "  </thead>\n",
       "  <tbody>\n",
       "    <tr>\n",
       "      <th>4256</th>\n",
       "      <td>890660cf-18cd-4f5b-a90a-80059fe8d550</td>\n",
       "      <td>44</td>\n",
       "    </tr>\n",
       "    <tr>\n",
       "      <th>3811</th>\n",
       "      <td>7ae6552f-d3a4-49b4-ba20-840cc52c1b02</td>\n",
       "      <td>41</td>\n",
       "    </tr>\n",
       "    <tr>\n",
       "      <th>1735</th>\n",
       "      <td>3808edfe-6b3b-4317-b6eb-9ef0c894c0b2</td>\n",
       "      <td>41</td>\n",
       "    </tr>\n",
       "    <tr>\n",
       "      <th>7676</th>\n",
       "      <td>f7c9f358-e8d4-428c-9e59-6f8d513b4754</td>\n",
       "      <td>39</td>\n",
       "    </tr>\n",
       "    <tr>\n",
       "      <th>21</th>\n",
       "      <td>00abd21b-2b3d-4278-9671-e80a224c21aa</td>\n",
       "      <td>38</td>\n",
       "    </tr>\n",
       "    <tr>\n",
       "      <th>4040</th>\n",
       "      <td>8214c919-070e-469e-9317-7cb97c41624c</td>\n",
       "      <td>33</td>\n",
       "    </tr>\n",
       "    <tr>\n",
       "      <th>3153</th>\n",
       "      <td>663dece9-0618-405c-a2bf-bef6005a40b1</td>\n",
       "      <td>31</td>\n",
       "    </tr>\n",
       "    <tr>\n",
       "      <th>5793</th>\n",
       "      <td>bae4027d-ec59-47b9-9fb1-c80e27985d3a</td>\n",
       "      <td>30</td>\n",
       "    </tr>\n",
       "    <tr>\n",
       "      <th>6064</th>\n",
       "      <td>c4579656-4a41-4080-99cf-dfef8fa3b350</td>\n",
       "      <td>28</td>\n",
       "    </tr>\n",
       "    <tr>\n",
       "      <th>6806</th>\n",
       "      <td>dccab311-1848-40d2-a805-fd617c3fd72e</td>\n",
       "      <td>23</td>\n",
       "    </tr>\n",
       "  </tbody>\n",
       "</table>\n",
       "</div>"
      ],
      "text/plain": [
       "                              id_user_anon  list_count\n",
       "4256  890660cf-18cd-4f5b-a90a-80059fe8d550          44\n",
       "3811  7ae6552f-d3a4-49b4-ba20-840cc52c1b02          41\n",
       "1735  3808edfe-6b3b-4317-b6eb-9ef0c894c0b2          41\n",
       "7676  f7c9f358-e8d4-428c-9e59-6f8d513b4754          39\n",
       "21    00abd21b-2b3d-4278-9671-e80a224c21aa          38\n",
       "4040  8214c919-070e-469e-9317-7cb97c41624c          33\n",
       "3153  663dece9-0618-405c-a2bf-bef6005a40b1          31\n",
       "5793  bae4027d-ec59-47b9-9fb1-c80e27985d3a          30\n",
       "6064  c4579656-4a41-4080-99cf-dfef8fa3b350          28\n",
       "6806  dccab311-1848-40d2-a805-fd617c3fd72e          23"
      ]
     },
     "execution_count": 9,
     "metadata": {},
     "output_type": "execute_result"
    }
   ],
   "source": [
    "user_listings.sort_values(by='list_count', ascending=False).head(10)"
   ]
  },
  {
   "cell_type": "code",
   "execution_count": 10,
   "metadata": {
    "collapsed": false
   },
   "outputs": [
    {
     "data": {
      "text/plain": [
       "Index([u'dim_is_requested', u'ds_night', u'ds', u'id_listing_anon',\n",
       "       u'id_user_anon', u'm_effective_daily_price', u'm_pricing_cleaning_fee',\n",
       "       u'dim_market', u'dim_lat', u'dim_lng', u'dim_room_type',\n",
       "       u'dim_person_capacity', u'dim_is_instant_bookable', u'm_checkouts',\n",
       "       u'm_reviews', u'days_since_last_booking', u'cancel_policy',\n",
       "       u'image_quality_score', u'm_total_overall_rating',\n",
       "       u'm_professional_pictures', u'dim_has_wireless_internet',\n",
       "       u'ds_night_day_of_week', u'ds_night_day_of_year', u'ds_checkin_gap',\n",
       "       u'ds_checkout_gap', u'occ_occupancy_plus_minus_7_ds_night',\n",
       "       u'occ_occupancy_plus_minus_14_ds_night',\n",
       "       u'occ_occupancy_trailing_90_ds', u'm_minimum_nights',\n",
       "       u'm_maximum_nights', u'price_booked_most_recent',\n",
       "       u'p2_p3_click_through_score', u'p3_inquiry_score',\n",
       "       u'listing_m_listing_views_2_6_ds_night_decay',\n",
       "       u'general_market_m_unique_searchers_0_6_ds_night',\n",
       "       u'general_market_m_contacts_0_6_ds_night',\n",
       "       u'general_market_m_reservation_requests_0_6_ds_night',\n",
       "       u'general_market_m_is_booked_0_6_ds_night',\n",
       "       u'm_available_listings_ds_night', u'kdt_score',\n",
       "       u'r_kdt_listing_views_0_6_avg_n100', u'r_kdt_n_active_n100',\n",
       "       u'r_kdt_n_available_n100', u'r_kdt_m_effective_daily_price_n100_p50',\n",
       "       u'r_kdt_m_effective_daily_price_available_n100_p50',\n",
       "       u'r_kdt_m_effective_daily_price_booked_n100_p50', u'list_count'],\n",
       "      dtype='object')"
      ]
     },
     "execution_count": 10,
     "metadata": {},
     "output_type": "execute_result"
    }
   ],
   "source": [
    "data1 = data.copy()\n",
    "data1 = pd.merge(data, user_listings, on = \"id_user_anon\", how = \"inner\")\n",
    "#data1.iloc[:,-1].sort_values(ascending = False).head(8)\n",
    "data1.columns"
   ]
  },
  {
   "cell_type": "code",
   "execution_count": 11,
   "metadata": {
    "collapsed": false
   },
   "outputs": [],
   "source": [
    "data = data1.copy()"
   ]
  },
  {
   "cell_type": "markdown",
   "metadata": {},
   "source": [
    "I also generate a boolean variable to indicate if the listing has a cleaning fee: **`has_cleaning_fee`** "
   ]
  },
  {
   "cell_type": "code",
   "execution_count": 12,
   "metadata": {
    "collapsed": false
   },
   "outputs": [
    {
     "data": {
      "text/plain": [
       "<matplotlib.axes._subplots.AxesSubplot at 0x116a3a2d0>"
      ]
     },
     "execution_count": 12,
     "metadata": {},
     "output_type": "execute_result"
    },
    {
     "data": {
      "image/png": "[encoded data removed]",
      "text/plain": [
       "<matplotlib.figure.Figure at 0x116a3a490>"
      ]
     },
     "metadata": {},
     "output_type": "display_data"
    }
   ],
   "source": [
    "data.m_pricing_cleaning_fee.hist(bins=20)"
   ]
  },
  {
   "cell_type": "code",
   "execution_count": 13,
   "metadata": {
    "collapsed": false
   },
   "outputs": [
    {
     "data": {
      "text/plain": [
       "62687"
      ]
     },
     "execution_count": 13,
     "metadata": {},
     "output_type": "execute_result"
    }
   ],
   "source": [
    "len(data[data.m_pricing_cleaning_fee==0])"
   ]
  },
  {
   "cell_type": "markdown",
   "metadata": {},
   "source": [
    "Practically 50% of the listings have no cleaning fee. "
   ]
  },
  {
   "cell_type": "code",
   "execution_count": 14,
   "metadata": {
    "collapsed": true
   },
   "outputs": [],
   "source": [
    "def cleaning_fee (row):\n",
    "    if row['m_pricing_cleaning_fee'] == 0:\n",
    "        return 0\n",
    "    return 1"
   ]
  },
  {
   "cell_type": "code",
   "execution_count": 15,
   "metadata": {
    "collapsed": false
   },
   "outputs": [],
   "source": [
    "data['has_cleaning_fee'] = data.apply (lambda row: cleaning_fee (row),axis=1)"
   ]
  },
  {
   "cell_type": "markdown",
   "metadata": {},
   "source": [
    "I noticed that apart from the city and coordinates, we don't have any other location feature. It'd be relevant to know how close the listing is from downtown. \n",
    "\n",
    "It'd be interesting to see for each listing which neighborhood are they situated but due to the lack of time I'm just going to see how close they are from downtown. \n",
    "To do so, I'm going to use the library `geopy` and calculate the **`distance_from_downtown`**"
   ]
  },
  {
   "cell_type": "code",
   "execution_count": 16,
   "metadata": {
    "collapsed": false
   },
   "outputs": [],
   "source": [
    "from geopy.geocoders import Nominatim\n",
    "geolocator = Nominatim()\n",
    "Paris_downtown = geolocator.geocode(\"Paris, France\")\n",
    "LA_downtown  = geolocator.geocode(\"Los Angeles, CA\")\n",
    "SF_downtown = geolocator.geocode(\"San Francisco, CA\")"
   ]
  },
  {
   "cell_type": "code",
   "execution_count": 17,
   "metadata": {
    "collapsed": false
   },
   "outputs": [
    {
     "name": "stdout",
     "output_type": "stream",
     "text": [
      "48.8566101\n",
      "2.3514992\n",
      "34.0543942\n",
      "-118.2439408\n",
      "37.7792808\n",
      "-122.4192362\n"
     ]
    }
   ],
   "source": [
    "print Paris_downtown.latitude\n",
    "print Paris_downtown.longitude\n",
    "print LA_downtown.latitude\n",
    "print LA_downtown.longitude\n",
    "print SF_downtown.latitude\n",
    "print SF_downtown.longitude"
   ]
  },
  {
   "cell_type": "code",
   "execution_count": 18,
   "metadata": {
    "collapsed": false
   },
   "outputs": [
    {
     "data": {
      "text/plain": [
       "dim_market    Los Angeles\n",
       "dim_lat           34.0539\n",
       "dim_lng          -118.363\n",
       "Name: 5, dtype: object"
      ]
     },
     "execution_count": 18,
     "metadata": {},
     "output_type": "execute_result"
    }
   ],
   "source": [
    "# Test for one random user\n",
    "user5 = data.loc[5,['dim_market','dim_lat', 'dim_lng']]\n",
    "user5"
   ]
  },
  {
   "cell_type": "code",
   "execution_count": 19,
   "metadata": {
    "collapsed": false
   },
   "outputs": [
    {
     "data": {
      "text/plain": [
       "dim_market    Los Angeles\n",
       "dim_lat           34.0539\n",
       "dim_lng          -118.363\n",
       "Name: 5, dtype: object"
      ]
     },
     "execution_count": 19,
     "metadata": {},
     "output_type": "execute_result"
    }
   ],
   "source": [
    "user5_loc = data.loc[5,['dim_lat', 'dim_lng']]\n",
    "user5"
   ]
  },
  {
   "cell_type": "code",
   "execution_count": 20,
   "metadata": {
    "collapsed": false
   },
   "outputs": [
    {
     "data": {
      "text/plain": [
       "5650.848485669666"
      ]
     },
     "execution_count": 20,
     "metadata": {},
     "output_type": "execute_result"
    }
   ],
   "source": [
    "from geopy.distance import great_circle\n",
    "\n",
    "great_circle((user5['dim_lat'],user5['dim_lng']), (Paris_downtown.latitude, Paris_downtown.longitude)).miles"
   ]
  },
  {
   "cell_type": "code",
   "execution_count": 21,
   "metadata": {
    "collapsed": false
   },
   "outputs": [],
   "source": [
    "data2 = data.copy()\n",
    "data2['market_lat'] = data2['dim_market'].map(lambda x: Paris_downtown.latitude if x == 'Paris' \\\n",
    "                                              else LA_downtown.latitude if x == 'Los Angeles' \\\n",
    "                                              else SF_downtown.latitude )\n",
    "data2['market_lon'] = data2['dim_market'].map(lambda x: Paris_downtown.longitude if x == 'Paris' \\\n",
    "                                              else LA_downtown.longitude if x == 'Los Angeles' \\\n",
    "                                              else SF_downtown.longitude )"
   ]
  },
  {
   "cell_type": "markdown",
   "metadata": {},
   "source": [
    "Now let's calculate the distances using great circle technique"
   ]
  },
  {
   "cell_type": "code",
   "execution_count": 22,
   "metadata": {
    "collapsed": false
   },
   "outputs": [],
   "source": [
    "from geopy.distance import great_circle\n",
    "\n",
    "data2['distance_from_downtown'] = data2.apply(lambda x: great_circle((x['market_lat'],x['market_lon']), \\\n",
    "                                               (x['dim_lat'],x['dim_lng'])).miles,  axis=1)"
   ]
  },
  {
   "cell_type": "code",
   "execution_count": 189,
   "metadata": {
    "collapsed": false
   },
   "outputs": [
    {
     "data": {
      "image/png": "[encoded data removed]",
      "text/plain": [
       "<matplotlib.figure.Figure at 0x11afb5d50>"
      ]
     },
     "metadata": {},
     "output_type": "display_data"
    }
   ],
   "source": [
    "sns.distplot(data2['distance_from_downtown'], color='#FD5C64')\n",
    "sns.despine()"
   ]
  },
  {
   "cell_type": "code",
   "execution_count": 23,
   "metadata": {
    "collapsed": false
   },
   "outputs": [],
   "source": [
    "data = data2.copy()"
   ]
  },
  {
   "cell_type": "markdown",
   "metadata": {},
   "source": [
    "Let's take a look at **`m_professional_pictures`**"
   ]
  },
  {
   "cell_type": "code",
   "execution_count": 24,
   "metadata": {
    "collapsed": false
   },
   "outputs": [
    {
     "data": {
      "text/plain": [
       "<matplotlib.axes._subplots.AxesSubplot at 0x1184b2c50>"
      ]
     },
     "execution_count": 24,
     "metadata": {},
     "output_type": "execute_result"
    },
    {
     "data": {
      "image/png": "[encoded data removed]",
      "text/plain": [
       "<matplotlib.figure.Figure at 0x118491d10>"
      ]
     },
     "metadata": {},
     "output_type": "display_data"
    }
   ],
   "source": [
    "data.m_professional_pictures.hist(bins=20)\n"
   ]
  },
  {
   "cell_type": "code",
   "execution_count": 25,
   "metadata": {
    "collapsed": false
   },
   "outputs": [
    {
     "data": {
      "text/plain": [
       "0.7138957775980985"
      ]
     },
     "execution_count": 25,
     "metadata": {},
     "output_type": "execute_result"
    }
   ],
   "source": [
    "float(len(data[data.m_professional_pictures==0])) / len(data)"
   ]
  },
  {
   "cell_type": "markdown",
   "metadata": {},
   "source": [
    "We can see that 71% of the listings don't have \"professional photos\" in their profile. As with `m_pricing_cleaning_fee`, let's create a binary variable that differentiates the listings with professional photos from those that don't have: **`has_prof_pic`** "
   ]
  },
  {
   "cell_type": "code",
   "execution_count": 26,
   "metadata": {
    "collapsed": true
   },
   "outputs": [],
   "source": [
    "def prof_pic (row):\n",
    "    if row['m_professional_pictures'] == 0:\n",
    "        return 0\n",
    "    return 1"
   ]
  },
  {
   "cell_type": "code",
   "execution_count": 37,
   "metadata": {
    "collapsed": true
   },
   "outputs": [],
   "source": [
    "data['has_prof_pic'] = data.apply (lambda row: prof_pic (row),axis=1)"
   ]
  },
  {
   "cell_type": "markdown",
   "metadata": {},
   "source": [
    "We also create a binary with `m_total_overall_rating` as 30% has an overall rating of 0. "
   ]
  },
  {
   "cell_type": "code",
   "execution_count": 28,
   "metadata": {
    "collapsed": true
   },
   "outputs": [],
   "source": [
    "def rating (row):\n",
    "    if row['m_total_overall_rating'] == 0:\n",
    "        return 0\n",
    "    return 1"
   ]
  },
  {
   "cell_type": "code",
   "execution_count": 29,
   "metadata": {
    "collapsed": true
   },
   "outputs": [],
   "source": [
    "data['has_rating'] = data.apply (lambda row: rating (row),axis=1)"
   ]
  },
  {
   "cell_type": "markdown",
   "metadata": {},
   "source": [
    "Now before starting modeling, let's make sure the data types are the correct ones for every feature. "
   ]
  },
  {
   "cell_type": "code",
   "execution_count": 88,
   "metadata": {
    "collapsed": false
   },
   "outputs": [],
   "source": [
    "categorical_features = [\n",
    "    'id_listing_anon',\n",
    "    'id_user_anon',\n",
    "    'dim_market',\n",
    "    'dim_room_type',\n",
    "    'cancel_policy',\n",
    "    'ds_night_day_of_week',\n",
    "    'ds_night_day_of_year' , \n",
    "    'dim_has_wireless_internet',\n",
    "    'has_cleaning_fee',\n",
    "    'has_prof_pic',\n",
    "    'has_rating',\n",
    "'first_booking', \n",
    "    'dim_is_instant_bookable'\n",
    "    ]\n",
    "\n",
    "for x in categorical_features:\n",
    "    data[x] = data[x].astype('category')"
   ]
  },
  {
   "cell_type": "code",
   "execution_count": 89,
   "metadata": {
    "collapsed": false
   },
   "outputs": [],
   "source": [
    "data['ds_night'] = pd.to_datetime(data['ds_night'])"
   ]
  },
  {
   "cell_type": "code",
   "execution_count": 90,
   "metadata": {
    "collapsed": false
   },
   "outputs": [
    {
     "name": "stdout",
     "output_type": "stream",
     "text": [
      "<class 'pandas.core.frame.DataFrame'>\n",
      "Int64Index: 137121 entries, 0 to 184278\n",
      "Data columns (total 52 columns):\n",
      "dim_is_requested                                      137121 non-null bool\n",
      "ds_night                                              137121 non-null datetime64[ns]\n",
      "ds                                                    137121 non-null object\n",
      "id_listing_anon                                       137121 non-null category\n",
      "id_user_anon                                          137121 non-null category\n",
      "m_effective_daily_price                               137121 non-null float64\n",
      "m_pricing_cleaning_fee                                137121 non-null float64\n",
      "dim_market                                            137121 non-null category\n",
      "dim_lat                                               137121 non-null float64\n",
      "dim_lng                                               137121 non-null float64\n",
      "dim_room_type                                         137121 non-null category\n",
      "dim_person_capacity                                   137121 non-null int64\n",
      "dim_is_instant_bookable                               137121 non-null category\n",
      "m_checkouts                                           137121 non-null float64\n",
      "m_reviews                                             137121 non-null float64\n",
      "days_since_last_booking                               137121 non-null float64\n",
      "cancel_policy                                         137121 non-null category\n",
      "image_quality_score                                   137121 non-null float64\n",
      "m_total_overall_rating                                137121 non-null float64\n",
      "m_professional_pictures                               137121 non-null float64\n",
      "dim_has_wireless_internet                             137121 non-null category\n",
      "ds_night_day_of_week                                  137121 non-null category\n",
      "ds_night_day_of_year                                  137121 non-null category\n",
      "ds_checkin_gap                                        137121 non-null float64\n",
      "ds_checkout_gap                                       137121 non-null float64\n",
      "occ_occupancy_plus_minus_7_ds_night                   137121 non-null float64\n",
      "occ_occupancy_plus_minus_14_ds_night                  137121 non-null float64\n",
      "occ_occupancy_trailing_90_ds                          137121 non-null float64\n",
      "m_minimum_nights                                      137121 non-null float64\n",
      "m_maximum_nights                                      137121 non-null float64\n",
      "price_booked_most_recent                              137121 non-null float64\n",
      "listing_m_listing_views_2_6_ds_night_decay            137121 non-null float64\n",
      "general_market_m_unique_searchers_0_6_ds_night        137121 non-null float64\n",
      "general_market_m_contacts_0_6_ds_night                137121 non-null float64\n",
      "general_market_m_reservation_requests_0_6_ds_night    137121 non-null float64\n",
      "general_market_m_is_booked_0_6_ds_night               137121 non-null float64\n",
      "m_available_listings_ds_night                         137121 non-null int64\n",
      "kdt_score                                             137121 non-null float64\n",
      "r_kdt_listing_views_0_6_avg_n100                      137121 non-null float64\n",
      "r_kdt_n_active_n100                                   137121 non-null float64\n",
      "r_kdt_n_available_n100                                137121 non-null float64\n",
      "r_kdt_m_effective_daily_price_n100_p50                137121 non-null float64\n",
      "r_kdt_m_effective_daily_price_available_n100_p50      137121 non-null float64\n",
      "r_kdt_m_effective_daily_price_booked_n100_p50         137121 non-null float64\n",
      "list_count                                            137121 non-null int64\n",
      "has_cleaning_fee                                      137121 non-null category\n",
      "market_lat                                            137121 non-null float64\n",
      "market_lon                                            137121 non-null float64\n",
      "distance_from_downtown                                137121 non-null float64\n",
      "has_prof_pic                                          137121 non-null category\n",
      "has_rating                                            137121 non-null category\n",
      "first_booking                                         137121 non-null category\n",
      "dtypes: bool(1), category(13), datetime64[ns](1), float64(33), int64(3), object(1)\n",
      "memory usage: 43.2+ MB\n"
     ]
    }
   ],
   "source": [
    "data.info()"
   ]
  },
  {
   "cell_type": "markdown",
   "metadata": {},
   "source": [
    "## Modeling "
   ]
  },
  {
   "cell_type": "markdown",
   "metadata": {},
   "source": [
    "Let's now build a model that predicts whether a listing will receive a booking request for a calendar night."
   ]
  },
  {
   "cell_type": "markdown",
   "metadata": {},
   "source": [
    "I'm going to start building a model for the dataset of listings with at least one booking. \n",
    "\n",
    "Later--if I have time--I'll build a separate model for the new listings. \n",
    "\n",
    "I'd be interesting to try building a model for each market (city) in the future. \n",
    "\n",
    "First I select the first group of features: "
   ]
  },
  {
   "cell_type": "code",
   "execution_count": 91,
   "metadata": {
    "collapsed": false
   },
   "outputs": [],
   "source": [
    "df = data\n",
    "features = ['dim_market', 'cancel_policy', 'dim_room_type', 'ds_night_day_of_week', 'ds_night_day_of_year',\n",
    "            'm_effective_daily_price','dim_person_capacity', 'dim_is_instant_bookable', 'm_checkouts', \n",
    "           'm_reviews','image_quality_score', 'm_total_overall_rating', 'dim_has_wireless_internet', \n",
    "           'ds_checkin_gap','ds_checkout_gap','occ_occupancy_plus_minus_7_ds_night', 'occ_occupancy_plus_minus_14_ds_night',\n",
    "           'occ_occupancy_trailing_90_ds', 'm_minimum_nights', 'm_maximum_nights','listing_m_listing_views_2_6_ds_night_decay', \n",
    "           'general_market_m_unique_searchers_0_6_ds_night','general_market_m_contacts_0_6_ds_night', \n",
    "            'general_market_m_reservation_requests_0_6_ds_night', 'm_available_listings_ds_night', 'list_count',\n",
    "           'has_cleaning_fee', 'distance_from_downtown', 'has_prof_pic', 'has_rating', \n",
    "           'kdt_score', \n",
    "            'r_kdt_listing_views_0_6_avg_n100',\n",
    "            'r_kdt_n_active_n100',\n",
    "            'r_kdt_n_available_n100',   \n",
    "            'r_kdt_m_effective_daily_price_n100_p50',  \n",
    "            'r_kdt_m_effective_daily_price_available_n100_p50', \n",
    "            'r_kdt_m_effective_daily_price_booked_n100_p50'\n",
    "           ]\n",
    "df_feat = df[features]"
   ]
  },
  {
   "cell_type": "markdown",
   "metadata": {},
   "source": [
    "Create the dummy variables for the categorical. "
   ]
  },
  {
   "cell_type": "code",
   "execution_count": 92,
   "metadata": {
    "collapsed": false
   },
   "outputs": [],
   "source": [
    "#One-hot-encoding features\n",
    "one_feats = ['dim_market', 'cancel_policy', 'dim_room_type', 'ds_night_day_of_week', 'ds_night_day_of_year']\n",
    "\n",
    "for f in one_feats:\n",
    "    df_all_dummy = pd.get_dummies(df[f], prefix=f)\n",
    "    df_feat = df_feat.drop([f], axis=1)\n",
    "    df_feat = pd.concat((df_feat, df_all_dummy), axis=1)"
   ]
  },
  {
   "cell_type": "markdown",
   "metadata": {},
   "source": [
    "Split the dataset 70-30"
   ]
  },
  {
   "cell_type": "code",
   "execution_count": 93,
   "metadata": {
    "collapsed": true
   },
   "outputs": [],
   "source": [
    "import random\n",
    "X = df_feat\n",
    "Y = df['dim_is_requested']\n",
    "rows = random.sample(df.index, int(len(df)*.70))\n",
    "x_train, y_train = X.ix[rows],Y.ix[rows]\n",
    "x_test,y_test  = X.drop(rows),Y.drop(rows)"
   ]
  },
  {
   "cell_type": "code",
   "execution_count": 94,
   "metadata": {
    "collapsed": false
   },
   "outputs": [
    {
     "name": "stdout",
     "output_type": "stream",
     "text": [
      "Rows in train set: 95984\n",
      "Rows in test set: 41137\n"
     ]
    }
   ],
   "source": [
    "print \"Rows in train set: %s\" %len(x_train)\n",
    "print \"Rows in test set: %s\" %len(x_test)"
   ]
  },
  {
   "cell_type": "markdown",
   "metadata": {},
   "source": [
    "### Model 1: RF\n",
    "Fit a Random Forest model.\n",
    "\n",
    "I pick Random Forest as it usually requires very little to optimize, handeles well outliers, irrelevant variables, and both continuous and categorical variables. I'll use the default parameters and set n_estimators to 50. "
   ]
  },
  {
   "cell_type": "code",
   "execution_count": 95,
   "metadata": {
    "collapsed": false
   },
   "outputs": [
    {
     "data": {
      "text/plain": [
       "RandomForestClassifier(bootstrap=True, class_weight=None, criterion='gini',\n",
       "            max_depth=None, max_features='auto', max_leaf_nodes=None,\n",
       "            min_samples_leaf=1, min_samples_split=2,\n",
       "            min_weight_fraction_leaf=0.0, n_estimators=50, n_jobs=1,\n",
       "            oob_score=False, random_state=None, verbose=0,\n",
       "            warm_start=False)"
      ]
     },
     "execution_count": 95,
     "metadata": {},
     "output_type": "execute_result"
    }
   ],
   "source": [
    "from sklearn.ensemble import RandomForestClassifier\n",
    "\n",
    "rf_model = RandomForestClassifier(n_estimators=50)\n",
    "rf_model.fit(x_train, y_train)"
   ]
  },
  {
   "cell_type": "code",
   "execution_count": 96,
   "metadata": {
    "collapsed": false
   },
   "outputs": [
    {
     "name": "stdout",
     "output_type": "stream",
     "text": [
      "CV AUC [ 0.80025988  0.81171945  0.79477666], Average AUC 0.802251996817\n"
     ]
    }
   ],
   "source": [
    "# Evaluate the Random Forest model using cross-validation:\n",
    "from sklearn.cross_validation import cross_val_score\n",
    "\n",
    "scores = cross_val_score(rf_model, x_test, y_test, scoring='roc_auc')\n",
    "print('CV AUC {}, Average AUC {}'.format(scores, scores.mean()))"
   ]
  },
  {
   "cell_type": "code",
   "execution_count": 156,
   "metadata": {
    "collapsed": false
   },
   "outputs": [
    {
     "name": "stdout",
     "output_type": "stream",
     "text": [
      "F1 score: 0.733302473218\n",
      "Precision: 0.791788646912\n",
      "Recall: 0.682862245212\n",
      "Accuracy: 0.803923475217\n"
     ]
    }
   ],
   "source": [
    "from sklearn.metrics import f1_score, precision_score, accuracy_score, \\\n",
    "recall_score, confusion_matrix, classification_report, roc_auc_score\n",
    "\n",
    "pred_rf = rf_model.predict(x_test)\n",
    "print \"F1 score:\", f1_score(y_test, pred_rf)\n",
    "print \"Precision:\", precision_score(y_test, pred_rf)\n",
    "print \"Recall:\", recall_score(y_test, pred_rf)\n",
    "print \"Accuracy:\", accuracy_score(y_test, pred_rf)"
   ]
  },
  {
   "cell_type": "code",
   "execution_count": 98,
   "metadata": {
    "collapsed": false
   },
   "outputs": [
    {
     "data": {
      "text/html": [
       "<div>\n",
       "<table border=\"1\" class=\"dataframe\">\n",
       "  <thead>\n",
       "    <tr style=\"text-align: right;\">\n",
       "      <th></th>\n",
       "      <th>Features</th>\n",
       "      <th>Importance Score</th>\n",
       "    </tr>\n",
       "  </thead>\n",
       "  <tbody>\n",
       "    <tr>\n",
       "      <th>0</th>\n",
       "      <td>m_effective_daily_price</td>\n",
       "      <td>0.066814</td>\n",
       "    </tr>\n",
       "    <tr>\n",
       "      <th>12</th>\n",
       "      <td>occ_occupancy_trailing_90_ds</td>\n",
       "      <td>0.066194</td>\n",
       "    </tr>\n",
       "    <tr>\n",
       "      <th>15</th>\n",
       "      <td>listing_m_listing_views_2_6_ds_night_decay</td>\n",
       "      <td>0.066079</td>\n",
       "    </tr>\n",
       "    <tr>\n",
       "      <th>19</th>\n",
       "      <td>m_available_listings_ds_night</td>\n",
       "      <td>0.040727</td>\n",
       "    </tr>\n",
       "    <tr>\n",
       "      <th>3</th>\n",
       "      <td>m_checkouts</td>\n",
       "      <td>0.034273</td>\n",
       "    </tr>\n",
       "    <tr>\n",
       "      <th>26</th>\n",
       "      <td>r_kdt_listing_views_0_6_avg_n100</td>\n",
       "      <td>0.033266</td>\n",
       "    </tr>\n",
       "    <tr>\n",
       "      <th>6</th>\n",
       "      <td>m_total_overall_rating</td>\n",
       "      <td>0.032257</td>\n",
       "    </tr>\n",
       "    <tr>\n",
       "      <th>17</th>\n",
       "      <td>general_market_m_contacts_0_6_ds_night</td>\n",
       "      <td>0.032241</td>\n",
       "    </tr>\n",
       "    <tr>\n",
       "      <th>29</th>\n",
       "      <td>r_kdt_m_effective_daily_price_n100_p50</td>\n",
       "      <td>0.031880</td>\n",
       "    </tr>\n",
       "    <tr>\n",
       "      <th>31</th>\n",
       "      <td>r_kdt_m_effective_daily_price_booked_n100_p50</td>\n",
       "      <td>0.031640</td>\n",
       "    </tr>\n",
       "    <tr>\n",
       "      <th>22</th>\n",
       "      <td>distance_from_downtown</td>\n",
       "      <td>0.031587</td>\n",
       "    </tr>\n",
       "    <tr>\n",
       "      <th>16</th>\n",
       "      <td>general_market_m_unique_searchers_0_6_ds_night</td>\n",
       "      <td>0.031492</td>\n",
       "    </tr>\n",
       "    <tr>\n",
       "      <th>25</th>\n",
       "      <td>kdt_score</td>\n",
       "      <td>0.031456</td>\n",
       "    </tr>\n",
       "    <tr>\n",
       "      <th>30</th>\n",
       "      <td>r_kdt_m_effective_daily_price_available_n100_p50</td>\n",
       "      <td>0.031206</td>\n",
       "    </tr>\n",
       "    <tr>\n",
       "      <th>18</th>\n",
       "      <td>general_market_m_reservation_requests_0_6_ds_n...</td>\n",
       "      <td>0.030846</td>\n",
       "    </tr>\n",
       "  </tbody>\n",
       "</table>\n",
       "</div>"
      ],
      "text/plain": [
       "                                             Features  Importance Score\n",
       "0                             m_effective_daily_price          0.066814\n",
       "12                       occ_occupancy_trailing_90_ds          0.066194\n",
       "15         listing_m_listing_views_2_6_ds_night_decay          0.066079\n",
       "19                      m_available_listings_ds_night          0.040727\n",
       "3                                         m_checkouts          0.034273\n",
       "26                   r_kdt_listing_views_0_6_avg_n100          0.033266\n",
       "6                              m_total_overall_rating          0.032257\n",
       "17             general_market_m_contacts_0_6_ds_night          0.032241\n",
       "29             r_kdt_m_effective_daily_price_n100_p50          0.031880\n",
       "31      r_kdt_m_effective_daily_price_booked_n100_p50          0.031640\n",
       "22                             distance_from_downtown          0.031587\n",
       "16     general_market_m_unique_searchers_0_6_ds_night          0.031492\n",
       "25                                          kdt_score          0.031456\n",
       "30   r_kdt_m_effective_daily_price_available_n100_p50          0.031206\n",
       "18  general_market_m_reservation_requests_0_6_ds_n...          0.030846"
      ]
     },
     "execution_count": 98,
     "metadata": {},
     "output_type": "execute_result"
    }
   ],
   "source": [
    "features = X.columns\n",
    "feature_importances = rf_model.feature_importances_\n",
    "\n",
    "features_df = pd.DataFrame({'Features': features, 'Importance Score': feature_importances})\n",
    "features_df.sort_values('Importance Score', inplace=True, ascending=False)\n",
    "\n",
    "features_df.head(15)"
   ]
  },
  {
   "cell_type": "markdown",
   "metadata": {},
   "source": [
    "### Model 2: GBM\n",
    "Fit a Gradient Tree Boosting model.\n",
    "\n",
    "Next I'm going to use GBM which is also a tree-based algorithm, but it uses boosting which can outperform Random Forests once they plateau. \n",
    "This type of models take more time to train but they normally have high predictive accuracy than RF.\n",
    "\n",
    "Later, I'll add regularization and parameter tuning with will help in finding the best combination of parameters that optimizes our evaluation metrics."
   ]
  },
  {
   "cell_type": "code",
   "execution_count": 100,
   "metadata": {
    "collapsed": false
   },
   "outputs": [],
   "source": [
    "from sklearn.ensemble import GradientBoostingClassifier\n",
    "params = {'n_estimators': 50,'learning_rate': 0.1,'max_depth': 6}\n",
    "gbm_model = GradientBoostingClassifier(**params).fit(x_train, y_train)"
   ]
  },
  {
   "cell_type": "code",
   "execution_count": 101,
   "metadata": {
    "collapsed": false
   },
   "outputs": [
    {
     "name": "stdout",
     "output_type": "stream",
     "text": [
      "F1 score: 0.708232013747\n",
      "Precision: 0.747877293892\n",
      "Recall: 0.672578360736\n",
      "Accuracy: 0.781243163089\n",
      "AUC: 0.762347498305\n"
     ]
    }
   ],
   "source": [
    "pred = gbm_model.predict(x_test)\n",
    "print \"F1 score:\", f1_score(y_test, pred)\n",
    "print \"Precision:\", precision_score(y_test, pred)\n",
    "print \"Recall:\", recall_score(y_test, pred)\n",
    "print \"Accuracy:\", accuracy_score(y_test, pred)\n",
    "print \"AUC:\", roc_auc_score(y_test, pred)"
   ]
  },
  {
   "cell_type": "code",
   "execution_count": 102,
   "metadata": {
    "collapsed": false
   },
   "outputs": [
    {
     "data": {
      "text/plain": [
       "<matplotlib.text.Text at 0x133a01250>"
      ]
     },
     "execution_count": 102,
     "metadata": {},
     "output_type": "execute_result"
    },
    {
     "data": {
      "image/png": "[encoded data removed]",
      "text/plain": [
       "<matplotlib.figure.Figure at 0x133973610>"
      ]
     },
     "metadata": {},
     "output_type": "display_data"
    }
   ],
   "source": [
    "import matplotlib.pyplot as plt\n",
    "\n",
    "# compute test set deviance\n",
    "test_score = np.zeros((params['n_estimators'],), dtype=np.float64)\n",
    "\n",
    "for i, y_pred in enumerate(gbm_model.staged_decision_function(x_test)):\n",
    "    test_score[i] = gbm_model.loss_(y_test, y_pred)\n",
    "\n",
    "plt.figure(figsize=(12, 6))\n",
    "plt.subplot(1, 1, 1)\n",
    "plt.title('Deviance')\n",
    "plt.plot(np.arange(params['n_estimators']) + 1, gbm_model.train_score_, 'b-',\n",
    "                label='Training Set Deviance')\n",
    "plt.plot(np.arange(params['n_estimators']) + 1, test_score, 'r-',\n",
    "                label='Test Set Deviance')\n",
    "plt.legend(loc='upper right')\n",
    "plt.xlabel('Boosting Iterations')\n",
    "plt.ylabel('Deviance')"
   ]
  },
  {
   "cell_type": "markdown",
   "metadata": {},
   "source": [
    "We can see that with the default set of parameters chosen, the big separation between both training and testing curves indicates overfitting. This model will require some parameter tuning."
   ]
  },
  {
   "cell_type": "code",
   "execution_count": 103,
   "metadata": {
    "collapsed": false
   },
   "outputs": [
    {
     "data": {
      "text/plain": [
       "array([[21216,  3682],\n",
       "       [ 5317, 10922]])"
      ]
     },
     "execution_count": 103,
     "metadata": {},
     "output_type": "execute_result"
    }
   ],
   "source": [
    "cm = confusion_matrix(y_test, pred)\n",
    "cm"
   ]
  },
  {
   "cell_type": "markdown",
   "metadata": {},
   "source": [
    "### Model 3: GBM + CV & Grid Search\n"
   ]
  },
  {
   "cell_type": "markdown",
   "metadata": {},
   "source": [
    "We'll now try **Cross-Validation** using Grid Search to find out the best set of tuning parameters for the GBM.We will optimize for F1 score. "
   ]
  },
  {
   "cell_type": "code",
   "execution_count": 155,
   "metadata": {
    "collapsed": false
   },
   "outputs": [],
   "source": [
    "from sklearn.ensemble import GradientBoostingClassifier\n",
    "from sklearn.grid_search import GridSearchCV"
   ]
  },
  {
   "cell_type": "code",
   "execution_count": 133,
   "metadata": {
    "collapsed": true
   },
   "outputs": [],
   "source": [
    "param_grid = {'max_features': [0.5, 0.1],\n",
    "          'learning_rate': [0.1, 0.05],\n",
    "          'max_depth': [4, 6],\n",
    "          'min_samples_leaf': [1],\n",
    "          'n_estimators': [50]      # Increase this to reduce overfitting. very time consuming. \n",
    "         }\n"
   ]
  },
  {
   "cell_type": "code",
   "execution_count": 134,
   "metadata": {
    "collapsed": false
   },
   "outputs": [],
   "source": [
    "gbm_model = GradientBoostingClassifier()\n",
    "gbm_cv_model = GridSearchCV(gbm_model, param_grid, scoring = \"f1\").fit(x_train, y_train)"
   ]
  },
  {
   "cell_type": "code",
   "execution_count": 152,
   "metadata": {
    "collapsed": false
   },
   "outputs": [
    {
     "name": "stdout",
     "output_type": "stream",
     "text": [
      "{'max_features': 0.1, 'n_estimators': 50, 'learning_rate': 0.05, 'max_depth': 6, 'min_samples_leaf': 1}\n"
     ]
    }
   ],
   "source": [
    "param_best = gbm_cv_model.best_params_\n",
    "print param_best"
   ]
  },
  {
   "cell_type": "code",
   "execution_count": 148,
   "metadata": {
    "collapsed": false
   },
   "outputs": [],
   "source": [
    "gbm_model_best = GradientBoostingClassifier(**param_best).fit(x_train, y_train)"
   ]
  },
  {
   "cell_type": "code",
   "execution_count": 149,
   "metadata": {
    "collapsed": false
   },
   "outputs": [
    {
     "name": "stdout",
     "output_type": "stream",
     "text": [
      "F1 score: 0.705870879657\n",
      "Precision: 0.747572815534\n",
      "Recall: 0.66857565121\n",
      "Accuracy: 0.780052021295\n",
      "AUC: 0.760667454491\n"
     ]
    }
   ],
   "source": [
    "pred = gbm_model_best.predict(x_test)\n",
    "print \"F1 score:\", f1_score(y_test, pred)\n",
    "print \"Precision:\", precision_score(y_test, pred)\n",
    "print \"Recall:\", recall_score(y_test, pred)\n",
    "print \"Accuracy:\", accuracy_score(y_test, pred)\n",
    "print \"AUC:\", roc_auc_score(y_test, pred)"
   ]
  },
  {
   "cell_type": "code",
   "execution_count": 150,
   "metadata": {
    "collapsed": false
   },
   "outputs": [
    {
     "data": {
      "text/plain": [
       "<matplotlib.text.Text at 0x13511e690>"
      ]
     },
     "execution_count": 150,
     "metadata": {},
     "output_type": "execute_result"
    },
    {
     "data": {
      "image/png": "[encoded data removed]",
      "text/plain": [
       "<matplotlib.figure.Figure at 0x1352ee450>"
      ]
     },
     "metadata": {},
     "output_type": "display_data"
    }
   ],
   "source": [
    "import matplotlib.pyplot as plt\n",
    "\n",
    "# compute test set deviance\n",
    "test_score = np.zeros((param_best['n_estimators'],), dtype=np.float64)\n",
    "\n",
    "for i, y_pred in enumerate(gbm_model_best.staged_decision_function(x_test)):\n",
    "    test_score[i] = gbm_model_best.loss_(y_test, y_pred)\n",
    "\n",
    "plt.figure(figsize=(12, 6))\n",
    "plt.subplot(1, 1, 1)\n",
    "plt.title('Deviance')\n",
    "plt.plot(np.arange(param_best['n_estimators']) + 1, gbm_model_best.train_score_, 'b-',\n",
    "                label='Training Set Deviance')\n",
    "plt.plot(np.arange(param_best['n_estimators']) + 1, test_score, 'r-',\n",
    "                label='Test Set Deviance')\n",
    "plt.legend(loc='upper right')\n",
    "plt.xlabel('Boosting Iterations')\n",
    "plt.ylabel('Deviance')"
   ]
  },
  {
   "cell_type": "markdown",
   "metadata": {},
   "source": [
    "From the chart above we can see that the modele generalizes well although it hasn't improved much compared with the previous GBM with the default parameters."
   ]
  },
  {
   "cell_type": "code",
   "execution_count": 153,
   "metadata": {
    "collapsed": false
   },
   "outputs": [
    {
     "data": {
      "text/plain": [
       "array([[21232,  3666],\n",
       "       [ 5382, 10857]])"
      ]
     },
     "execution_count": 153,
     "metadata": {},
     "output_type": "execute_result"
    }
   ],
   "source": [
    "cm = confusion_matrix(y_test, pred)\n",
    "cm"
   ]
  },
  {
   "cell_type": "markdown",
   "metadata": {},
   "source": [
    "Let's take a look at the feature importance for this model"
   ]
  },
  {
   "cell_type": "code",
   "execution_count": 154,
   "metadata": {
    "collapsed": false,
    "scrolled": false
   },
   "outputs": [
    {
     "data": {
      "text/html": [
       "<div>\n",
       "<table border=\"1\" class=\"dataframe\">\n",
       "  <thead>\n",
       "    <tr style=\"text-align: right;\">\n",
       "      <th></th>\n",
       "      <th>Features</th>\n",
       "      <th>Importance Score</th>\n",
       "    </tr>\n",
       "  </thead>\n",
       "  <tbody>\n",
       "    <tr>\n",
       "      <th>0</th>\n",
       "      <td>m_effective_daily_price</td>\n",
       "      <td>0.168958</td>\n",
       "    </tr>\n",
       "    <tr>\n",
       "      <th>15</th>\n",
       "      <td>listing_m_listing_views_2_6_ds_night_decay</td>\n",
       "      <td>0.102424</td>\n",
       "    </tr>\n",
       "    <tr>\n",
       "      <th>12</th>\n",
       "      <td>occ_occupancy_trailing_90_ds</td>\n",
       "      <td>0.098121</td>\n",
       "    </tr>\n",
       "    <tr>\n",
       "      <th>19</th>\n",
       "      <td>m_available_listings_ds_night</td>\n",
       "      <td>0.091250</td>\n",
       "    </tr>\n",
       "    <tr>\n",
       "      <th>30</th>\n",
       "      <td>r_kdt_m_effective_daily_price_available_n100_p50</td>\n",
       "      <td>0.041652</td>\n",
       "    </tr>\n",
       "    <tr>\n",
       "      <th>29</th>\n",
       "      <td>r_kdt_m_effective_daily_price_n100_p50</td>\n",
       "      <td>0.039241</td>\n",
       "    </tr>\n",
       "    <tr>\n",
       "      <th>22</th>\n",
       "      <td>distance_from_downtown</td>\n",
       "      <td>0.037562</td>\n",
       "    </tr>\n",
       "    <tr>\n",
       "      <th>16</th>\n",
       "      <td>general_market_m_unique_searchers_0_6_ds_night</td>\n",
       "      <td>0.035117</td>\n",
       "    </tr>\n",
       "    <tr>\n",
       "      <th>31</th>\n",
       "      <td>r_kdt_m_effective_daily_price_booked_n100_p50</td>\n",
       "      <td>0.030874</td>\n",
       "    </tr>\n",
       "    <tr>\n",
       "      <th>13</th>\n",
       "      <td>m_minimum_nights</td>\n",
       "      <td>0.028576</td>\n",
       "    </tr>\n",
       "    <tr>\n",
       "      <th>18</th>\n",
       "      <td>general_market_m_reservation_requests_0_6_ds_n...</td>\n",
       "      <td>0.026152</td>\n",
       "    </tr>\n",
       "    <tr>\n",
       "      <th>17</th>\n",
       "      <td>general_market_m_contacts_0_6_ds_night</td>\n",
       "      <td>0.026084</td>\n",
       "    </tr>\n",
       "    <tr>\n",
       "      <th>5</th>\n",
       "      <td>image_quality_score</td>\n",
       "      <td>0.021533</td>\n",
       "    </tr>\n",
       "    <tr>\n",
       "      <th>11</th>\n",
       "      <td>occ_occupancy_plus_minus_14_ds_night</td>\n",
       "      <td>0.020602</td>\n",
       "    </tr>\n",
       "    <tr>\n",
       "      <th>6</th>\n",
       "      <td>m_total_overall_rating</td>\n",
       "      <td>0.019893</td>\n",
       "    </tr>\n",
       "  </tbody>\n",
       "</table>\n",
       "</div>"
      ],
      "text/plain": [
       "                                             Features  Importance Score\n",
       "0                             m_effective_daily_price          0.168958\n",
       "15         listing_m_listing_views_2_6_ds_night_decay          0.102424\n",
       "12                       occ_occupancy_trailing_90_ds          0.098121\n",
       "19                      m_available_listings_ds_night          0.091250\n",
       "30   r_kdt_m_effective_daily_price_available_n100_p50          0.041652\n",
       "29             r_kdt_m_effective_daily_price_n100_p50          0.039241\n",
       "22                             distance_from_downtown          0.037562\n",
       "16     general_market_m_unique_searchers_0_6_ds_night          0.035117\n",
       "31      r_kdt_m_effective_daily_price_booked_n100_p50          0.030874\n",
       "13                                   m_minimum_nights          0.028576\n",
       "18  general_market_m_reservation_requests_0_6_ds_n...          0.026152\n",
       "17             general_market_m_contacts_0_6_ds_night          0.026084\n",
       "5                                 image_quality_score          0.021533\n",
       "11               occ_occupancy_plus_minus_14_ds_night          0.020602\n",
       "6                              m_total_overall_rating          0.019893"
      ]
     },
     "execution_count": 154,
     "metadata": {},
     "output_type": "execute_result"
    }
   ],
   "source": [
    "features = X.columns\n",
    "feature_importances = gbm_model_best.feature_importances_\n",
    "\n",
    "features_df = pd.DataFrame({'Features': features, 'Importance Score': feature_importances})\n",
    "features_df.sort_values('Importance Score', inplace=True, ascending=False)\n",
    "\n",
    "features_df.head(15)"
   ]
  },
  {
   "cell_type": "markdown",
   "metadata": {},
   "source": [
    "I tried a few other combination of parameters, focusing on those key parameters that I expect will have the biggest impact on the results (lowering the learning rate and increasing the n_estimators), and it resulted in just a tiny improvement of barely one decimal point in every evaluation metric.\n",
    "\n",
    "Overall, an AUC = 0.76 is considered a good model. With more time, I could perform real hyper-parameter optimization and see if I can beat the best AUC so far. "
   ]
  },
  {
   "cell_type": "code",
   "execution_count": null,
   "metadata": {
    "collapsed": true
   },
   "outputs": [],
   "source": []
  },
  {
   "cell_type": "code",
   "execution_count": 105,
   "metadata": {
    "collapsed": false
   },
   "outputs": [
    {
     "data": {
      "text/plain": [
       "array(['m_effective_daily_price', 'occ_occupancy_trailing_90_ds',\n",
       "       'listing_m_listing_views_2_6_ds_night_decay',\n",
       "       'm_available_listings_ds_night', 'm_checkouts',\n",
       "       'r_kdt_listing_views_0_6_avg_n100', 'm_total_overall_rating',\n",
       "       'general_market_m_contacts_0_6_ds_night',\n",
       "       'r_kdt_m_effective_daily_price_n100_p50',\n",
       "       'r_kdt_m_effective_daily_price_booked_n100_p50',\n",
       "       'distance_from_downtown',\n",
       "       'general_market_m_unique_searchers_0_6_ds_night', 'kdt_score',\n",
       "       'r_kdt_m_effective_daily_price_available_n100_p50',\n",
       "       'general_market_m_reservation_requests_0_6_ds_night',\n",
       "       'r_kdt_n_available_n100', 'image_quality_score',\n",
       "       'r_kdt_n_active_n100', 'm_reviews',\n",
       "       'occ_occupancy_plus_minus_14_ds_night', 'dim_person_capacity',\n",
       "       'm_maximum_nights', 'm_minimum_nights', 'list_count',\n",
       "       'occ_occupancy_plus_minus_7_ds_night', 'ds_checkin_gap',\n",
       "       'ds_checkout_gap', 'has_prof_pic', 'dim_market_Paris',\n",
       "       'dim_is_instant_bookable', 'has_cleaning_fee', 'cancel_policy_5',\n",
       "       'cancel_policy_4', 'cancel_policy_3', 'dim_market_Los Angeles',\n",
       "       'ds_night_day_of_week_0', 'ds_night_day_of_week_3',\n",
       "       'ds_night_day_of_week_1', 'ds_night_day_of_week_4',\n",
       "       'ds_night_day_of_week_6', 'ds_night_day_of_week_5',\n",
       "       'ds_night_day_of_week_2', 'has_rating',\n",
       "       'dim_room_type_Private room', 'dim_room_type_Entire home/apt',\n",
       "       'dim_market_San Francisco', 'dim_has_wireless_internet',\n",
       "       'dim_room_type_Shared room', 'ds_night_day_of_year_159',\n",
       "       'ds_night_day_of_year_174', 'ds_night_day_of_year_23',\n",
       "       'ds_night_day_of_year_161', 'ds_night_day_of_year_276',\n",
       "       'ds_night_day_of_year_24', 'ds_night_day_of_year_80',\n",
       "       'ds_night_day_of_year_65', 'ds_night_day_of_year_70',\n",
       "       'ds_night_day_of_year_337', 'ds_night_day_of_year_141',\n",
       "       'ds_night_day_of_year_5', 'ds_night_day_of_year_88',\n",
       "       'ds_night_day_of_year_69', 'ds_night_day_of_year_305',\n",
       "       'ds_night_day_of_year_155', 'ds_night_day_of_year_66',\n",
       "       'ds_night_day_of_year_110', 'ds_night_day_of_year_37',\n",
       "       'ds_night_day_of_year_166', 'ds_night_day_of_year_306',\n",
       "       'ds_night_day_of_year_273', 'ds_night_day_of_year_86',\n",
       "       'ds_night_day_of_year_79', 'ds_night_day_of_year_83',\n",
       "       'ds_night_day_of_year_169', 'ds_night_day_of_year_160',\n",
       "       'ds_night_day_of_year_139', 'ds_night_day_of_year_64',\n",
       "       'ds_night_day_of_year_43', 'ds_night_day_of_year_309',\n",
       "       'ds_night_day_of_year_154', 'ds_night_day_of_year_106',\n",
       "       'ds_night_day_of_year_307', 'ds_night_day_of_year_25',\n",
       "       'ds_night_day_of_year_138', 'ds_night_day_of_year_67',\n",
       "       'ds_night_day_of_year_82', 'ds_night_day_of_year_39',\n",
       "       'ds_night_day_of_year_140', 'ds_night_day_of_year_4',\n",
       "       'ds_night_day_of_year_9', 'ds_night_day_of_year_102',\n",
       "       'ds_night_day_of_year_144', 'ds_night_day_of_year_93',\n",
       "       'ds_night_day_of_year_145', 'ds_night_day_of_year_322',\n",
       "       'ds_night_day_of_year_42', 'ds_night_day_of_year_107',\n",
       "       'ds_night_day_of_year_213', 'ds_night_day_of_year_108',\n",
       "       'ds_night_day_of_year_319', 'ds_night_day_of_year_246',\n",
       "       'ds_night_day_of_year_265', 'ds_night_day_of_year_152',\n",
       "       'ds_night_day_of_year_3', 'ds_night_day_of_year_162',\n",
       "       'ds_night_day_of_year_321', 'ds_night_day_of_year_99',\n",
       "       'ds_night_day_of_year_312', 'ds_night_day_of_year_92',\n",
       "       'ds_night_day_of_year_146', 'ds_night_day_of_year_68',\n",
       "       'ds_night_day_of_year_90', 'ds_night_day_of_year_89',\n",
       "       'ds_night_day_of_year_243', 'ds_night_day_of_year_242',\n",
       "       'ds_night_day_of_year_84', 'ds_night_day_of_year_191',\n",
       "       'ds_night_day_of_year_148', 'ds_night_day_of_year_177',\n",
       "       'ds_night_day_of_year_21', 'ds_night_day_of_year_165',\n",
       "       'ds_night_day_of_year_190', 'ds_night_day_of_year_304',\n",
       "       'ds_night_day_of_year_47', 'ds_night_day_of_year_44',\n",
       "       'ds_night_day_of_year_52', 'ds_night_day_of_year_120',\n",
       "       'ds_night_day_of_year_346', 'ds_night_day_of_year_272',\n",
       "       'ds_night_day_of_year_119', 'ds_night_day_of_year_315',\n",
       "       'ds_night_day_of_year_196', 'ds_night_day_of_year_98',\n",
       "       'ds_night_day_of_year_87', 'ds_night_day_of_year_112',\n",
       "       'ds_night_day_of_year_91', 'ds_night_day_of_year_45',\n",
       "       'ds_night_day_of_year_14', 'ds_night_day_of_year_333',\n",
       "       'ds_night_day_of_year_143', 'ds_night_day_of_year_182',\n",
       "       'ds_night_day_of_year_78', 'ds_night_day_of_year_241',\n",
       "       'ds_night_day_of_year_173', 'ds_night_day_of_year_61',\n",
       "       'ds_night_day_of_year_46', 'ds_night_day_of_year_153',\n",
       "       'ds_night_day_of_year_48', 'ds_night_day_of_year_327',\n",
       "       'ds_night_day_of_year_111', 'ds_night_day_of_year_63',\n",
       "       'ds_night_day_of_year_77', 'ds_night_day_of_year_168',\n",
       "       'ds_night_day_of_year_356', 'ds_night_day_of_year_158',\n",
       "       'ds_night_day_of_year_59', 'ds_night_day_of_year_22',\n",
       "       'ds_night_day_of_year_294', 'ds_night_day_of_year_137',\n",
       "       'ds_night_day_of_year_49', 'ds_night_day_of_year_320',\n",
       "       'ds_night_day_of_year_136', 'ds_night_day_of_year_135',\n",
       "       'ds_night_day_of_year_187', 'ds_night_day_of_year_54',\n",
       "       'ds_night_day_of_year_330', 'ds_night_day_of_year_323',\n",
       "       'ds_night_day_of_year_216', 'ds_night_day_of_year_256',\n",
       "       'ds_night_day_of_year_328', 'ds_night_day_of_year_236',\n",
       "       'ds_night_day_of_year_300', 'ds_night_day_of_year_157',\n",
       "       'ds_night_day_of_year_117', 'ds_night_day_of_year_57',\n",
       "       'ds_night_day_of_year_95', 'ds_night_day_of_year_36',\n",
       "       'ds_night_day_of_year_348', 'ds_night_day_of_year_215',\n",
       "       'ds_night_day_of_year_2', 'ds_night_day_of_year_284',\n",
       "       'ds_night_day_of_year_247', 'ds_night_day_of_year_38',\n",
       "       'ds_night_day_of_year_357', 'ds_night_day_of_year_239',\n",
       "       'ds_night_day_of_year_316', 'ds_night_day_of_year_123',\n",
       "       'ds_night_day_of_year_326', 'ds_night_day_of_year_19',\n",
       "       'ds_night_day_of_year_118', 'ds_night_day_of_year_164',\n",
       "       'ds_night_day_of_year_105', 'ds_night_day_of_year_290',\n",
       "       'ds_night_day_of_year_101', 'ds_night_day_of_year_197',\n",
       "       'ds_night_day_of_year_26', 'ds_night_day_of_year_81',\n",
       "       'ds_night_day_of_year_358', 'ds_night_day_of_year_151',\n",
       "       'ds_night_day_of_year_75', 'ds_night_day_of_year_281',\n",
       "       'ds_night_day_of_year_17', 'ds_night_day_of_year_31',\n",
       "       'ds_night_day_of_year_109', 'ds_night_day_of_year_76',\n",
       "       'ds_night_day_of_year_210', 'ds_night_day_of_year_16',\n",
       "       'ds_night_day_of_year_72', 'ds_night_day_of_year_336',\n",
       "       'ds_night_day_of_year_97', 'ds_night_day_of_year_202',\n",
       "       'ds_night_day_of_year_338', 'ds_night_day_of_year_115',\n",
       "       'ds_night_day_of_year_292', 'ds_night_day_of_year_313',\n",
       "       'ds_night_day_of_year_85', 'ds_night_day_of_year_325',\n",
       "       'ds_night_day_of_year_308', 'ds_night_day_of_year_41',\n",
       "       'ds_night_day_of_year_195', 'ds_night_day_of_year_249',\n",
       "       'ds_night_day_of_year_121', 'ds_night_day_of_year_32',\n",
       "       'ds_night_day_of_year_331', 'ds_night_day_of_year_193',\n",
       "       'ds_night_day_of_year_12', 'ds_night_day_of_year_114',\n",
       "       'ds_night_day_of_year_58', 'ds_night_day_of_year_200',\n",
       "       'ds_night_day_of_year_18', 'ds_night_day_of_year_167',\n",
       "       'ds_night_day_of_year_244', 'ds_night_day_of_year_183',\n",
       "       'ds_night_day_of_year_55', 'ds_night_day_of_year_251',\n",
       "       'ds_night_day_of_year_362', 'ds_night_day_of_year_20',\n",
       "       'ds_night_day_of_year_128', 'ds_night_day_of_year_318',\n",
       "       'ds_night_day_of_year_6', 'ds_night_day_of_year_274',\n",
       "       'ds_night_day_of_year_96', 'ds_night_day_of_year_275',\n",
       "       'ds_night_day_of_year_266', 'ds_night_day_of_year_113',\n",
       "       'ds_night_day_of_year_314', 'ds_night_day_of_year_62',\n",
       "       'ds_night_day_of_year_354', 'ds_night_day_of_year_172',\n",
       "       'ds_night_day_of_year_250', 'ds_night_day_of_year_180',\n",
       "       'ds_night_day_of_year_73', 'ds_night_day_of_year_50',\n",
       "       'ds_night_day_of_year_355', 'ds_night_day_of_year_126',\n",
       "       'ds_night_day_of_year_287', 'ds_night_day_of_year_253',\n",
       "       'ds_night_day_of_year_163', 'ds_night_day_of_year_262',\n",
       "       'ds_night_day_of_year_29', 'ds_night_day_of_year_252',\n",
       "       'ds_night_day_of_year_324', 'ds_night_day_of_year_189',\n",
       "       'ds_night_day_of_year_345', 'ds_night_day_of_year_238',\n",
       "       'ds_night_day_of_year_53', 'ds_night_day_of_year_60',\n",
       "       'ds_night_day_of_year_344', 'ds_night_day_of_year_291',\n",
       "       'ds_night_day_of_year_351', 'ds_night_day_of_year_343',\n",
       "       'ds_night_day_of_year_332', 'ds_night_day_of_year_254',\n",
       "       'ds_night_day_of_year_186', 'ds_night_day_of_year_293',\n",
       "       'ds_night_day_of_year_296', 'ds_night_day_of_year_289',\n",
       "       'ds_night_day_of_year_288', 'ds_night_day_of_year_235',\n",
       "       'ds_night_day_of_year_56', 'ds_night_day_of_year_279',\n",
       "       'ds_night_day_of_year_194', 'ds_night_day_of_year_185',\n",
       "       'ds_night_day_of_year_347', 'ds_night_day_of_year_156',\n",
       "       'ds_night_day_of_year_285', 'ds_night_day_of_year_364',\n",
       "       'ds_night_day_of_year_147', 'ds_night_day_of_year_303',\n",
       "       'ds_night_day_of_year_339', 'ds_night_day_of_year_8',\n",
       "       'ds_night_day_of_year_1', 'ds_night_day_of_year_277',\n",
       "       'ds_night_day_of_year_175', 'ds_night_day_of_year_342',\n",
       "       'ds_night_day_of_year_340', 'ds_night_day_of_year_258',\n",
       "       'ds_night_day_of_year_74', 'ds_night_day_of_year_170',\n",
       "       'ds_night_day_of_year_103', 'ds_night_day_of_year_184',\n",
       "       'ds_night_day_of_year_192', 'ds_night_day_of_year_100',\n",
       "       'ds_night_day_of_year_71', 'ds_night_day_of_year_237',\n",
       "       'ds_night_day_of_year_27', 'ds_night_day_of_year_212',\n",
       "       'ds_night_day_of_year_231', 'ds_night_day_of_year_295',\n",
       "       'ds_night_day_of_year_15', 'ds_night_day_of_year_198',\n",
       "       'ds_night_day_of_year_302', 'ds_night_day_of_year_211',\n",
       "       'ds_night_day_of_year_297', 'ds_night_day_of_year_329',\n",
       "       'ds_night_day_of_year_13', 'ds_night_day_of_year_40',\n",
       "       'ds_night_day_of_year_280', 'ds_night_day_of_year_259',\n",
       "       'ds_night_day_of_year_10', 'ds_night_day_of_year_188',\n",
       "       'ds_night_day_of_year_260', 'ds_night_day_of_year_149',\n",
       "       'ds_night_day_of_year_317', 'ds_night_day_of_year_299',\n",
       "       'ds_night_day_of_year_214', 'ds_night_day_of_year_181',\n",
       "       'ds_night_day_of_year_30', 'ds_night_day_of_year_310',\n",
       "       'ds_night_day_of_year_341', 'ds_night_day_of_year_94',\n",
       "       'ds_night_day_of_year_352', 'ds_night_day_of_year_245',\n",
       "       'ds_night_day_of_year_278', 'ds_night_day_of_year_264',\n",
       "       'ds_night_day_of_year_207', 'ds_night_day_of_year_363',\n",
       "       'ds_night_day_of_year_311', 'ds_night_day_of_year_206',\n",
       "       'ds_night_day_of_year_222', 'ds_night_day_of_year_51',\n",
       "       'ds_night_day_of_year_283', 'ds_night_day_of_year_270',\n",
       "       'ds_night_day_of_year_255', 'ds_night_day_of_year_104',\n",
       "       'ds_night_day_of_year_171', 'ds_night_day_of_year_228',\n",
       "       'ds_night_day_of_year_219', 'ds_night_day_of_year_263',\n",
       "       'ds_night_day_of_year_240', 'ds_night_day_of_year_301',\n",
       "       'ds_night_day_of_year_271', 'ds_night_day_of_year_208',\n",
       "       'ds_night_day_of_year_129', 'ds_night_day_of_year_229',\n",
       "       'ds_night_day_of_year_282', 'ds_night_day_of_year_234',\n",
       "       'ds_night_day_of_year_350', 'ds_night_day_of_year_360',\n",
       "       'ds_night_day_of_year_353', 'ds_night_day_of_year_286',\n",
       "       'ds_night_day_of_year_179', 'ds_night_day_of_year_203',\n",
       "       'ds_night_day_of_year_205', 'ds_night_day_of_year_133',\n",
       "       'ds_night_day_of_year_225', 'ds_night_day_of_year_361',\n",
       "       'ds_night_day_of_year_116', 'ds_night_day_of_year_221',\n",
       "       'ds_night_day_of_year_201', 'ds_night_day_of_year_124',\n",
       "       'ds_night_day_of_year_122', 'ds_night_day_of_year_28',\n",
       "       'ds_night_day_of_year_359', 'ds_night_day_of_year_334',\n",
       "       'ds_night_day_of_year_218', 'ds_night_day_of_year_35',\n",
       "       'ds_night_day_of_year_199', 'ds_night_day_of_year_7',\n",
       "       'ds_night_day_of_year_335', 'ds_night_day_of_year_217',\n",
       "       'ds_night_day_of_year_232', 'ds_night_day_of_year_142',\n",
       "       'ds_night_day_of_year_150', 'ds_night_day_of_year_131',\n",
       "       'ds_night_day_of_year_269', 'ds_night_day_of_year_227',\n",
       "       'ds_night_day_of_year_257', 'ds_night_day_of_year_298',\n",
       "       'ds_night_day_of_year_132', 'ds_night_day_of_year_204',\n",
       "       'ds_night_day_of_year_125', 'ds_night_day_of_year_261',\n",
       "       'ds_night_day_of_year_33', 'ds_night_day_of_year_226',\n",
       "       'ds_night_day_of_year_233', 'ds_night_day_of_year_223',\n",
       "       'ds_night_day_of_year_220', 'ds_night_day_of_year_11',\n",
       "       'ds_night_day_of_year_230', 'ds_night_day_of_year_127',\n",
       "       'ds_night_day_of_year_268', 'ds_night_day_of_year_267',\n",
       "       'ds_night_day_of_year_130', 'ds_night_day_of_year_248',\n",
       "       'ds_night_day_of_year_209', 'ds_night_day_of_year_34',\n",
       "       'ds_night_day_of_year_224', 'ds_night_day_of_year_134',\n",
       "       'ds_night_day_of_year_349', 'ds_night_day_of_year_176',\n",
       "       'ds_night_day_of_year_178', 'cancel_policy_6', 'cancel_policy_8',\n",
       "       'cancel_policy_7'], dtype=object)"
      ]
     },
     "execution_count": 105,
     "metadata": {},
     "output_type": "execute_result"
    }
   ],
   "source": [
    "feature_names = features_df[\"Features\"].values\n",
    "feature_names"
   ]
  },
  {
   "cell_type": "code",
   "execution_count": 111,
   "metadata": {
    "collapsed": false
   },
   "outputs": [
    {
     "data": {
      "image/png": "[encoded data removed]",
      "text/plain": [
       "<matplotlib.figure.Figure at 0x133828a90>"
      ]
     },
     "metadata": {},
     "output_type": "display_data"
    }
   ],
   "source": [
    "from mpl_toolkits.mplot3d import Axes3D\n",
    "from sklearn.ensemble.partial_dependence import plot_partial_dependence\n",
    "from sklearn.ensemble.partial_dependence import partial_dependence\n",
    "                                           \n",
    "# Features are ranked by importance in our previous model.\n",
    "# I'm going to plot charts for the top 5-10\n",
    "features = [6, 7, 8, 9, 10]\n",
    "\n",
    "fig, axs = plot_partial_dependence(gbm_model, \n",
    "                                   x_train, \n",
    "                                   features,\n",
    "                                   feature_names=feature_names,\n",
    "                                   n_jobs=-1,   # Use ‘all CPUs’.\n",
    "                                   grid_resolution=100)\n",
    "fig.suptitle('Partial dependence of booking prediction on top features')\n",
    "plt.subplots_adjust(top=0.9)  # tight_layout causes overlap with suptitle\n",
    "plt.show()"
   ]
  },
  {
   "cell_type": "code",
   "execution_count": 110,
   "metadata": {
    "collapsed": false
   },
   "outputs": [
    {
     "data": {
      "image/png": "[encoded data removed]",
      "text/plain": [
       "<matplotlib.figure.Figure at 0x1184c5d10>"
      ]
     },
     "metadata": {},
     "output_type": "display_data"
    }
   ],
   "source": [
    "from mpl_toolkits.mplot3d import Axes3D\n",
    "from sklearn.ensemble.partial_dependence import plot_partial_dependence\n",
    "from sklearn.ensemble.partial_dependence import partial_dependence\n",
    "                                           \n",
    "# Features are ranked by importance in our previous model.\n",
    "# I'm going to plot charts for the top 5\n",
    "features = [1, 2, 3, 4, 5]\n",
    "\n",
    "fig, axs = plot_partial_dependence(gbm_model, \n",
    "                                   x_train, \n",
    "                                   features,\n",
    "                                   feature_names=feature_names,\n",
    "                                   n_jobs=-1,  \n",
    "                                   grid_resolution=100)\n",
    "fig.suptitle('Partial dependence of booking prediction on top features')\n",
    "plt.subplots_adjust(top=0.9)  # tight_layout causes overlap with suptitle\n",
    "plt.show()"
   ]
  },
  {
   "cell_type": "markdown",
   "metadata": {},
   "source": [
    "Some insights from the Partial Dependency Plots. \n",
    "Looking at the trends, we can see:\n",
    "- Likelihood of booking rises with overall rating. \n",
    "- Likelihood of booking rises when Avg Listing views for kdt-room reaches 0.6. \n",
    "- The number of checkouts increases the likelihood of booking but after 20 checkings it seems like it doesn't impact it. This number could be used to suggest a host a # checkouts goal.\n",
    "\n"
   ]
  },
  {
   "cell_type": "markdown",
   "metadata": {},
   "source": [
    "### Conclusions and Future Steps"
   ]
  },
  {
   "cell_type": "markdown",
   "metadata": {},
   "source": [
    "It's not surprising that those listings that are more popular within Airbnb (as measured by Occupancy rate, Average listing views, Total checkouts, and Overall Rating) are more likely to be booked. \n",
    "\n",
    "Top rated and popular listings are normally ranked and placed on top of the Search results list on the website, and tend to be the booked more quickly by the user than those that aren't.\n",
    "\n",
    "Unfortunately the host can't control many of these variables. However, pricing and quality of the images in the listing are two very important predictors of a booking. \n",
    "\n",
    "Having high quality pictures of the unit increases the likelihood that it will be reserved. In its origins, Airbnb had a Craigslist-rough and functionalist style, promoting shots of hosts or scenery over decor (\"better than a cheap hotel”). But by 2012 Airbnb settled into the well-designed, image-focused format it has today (i.e. high-resolution, full-bleed images, decor tips, etc), allowing users to present their listings not just as convenient hotel alternatives, but as places where users would love to live permanently. This is one of the reasons why Airbnb provides a professional photography service for free to any host and [tips to attract more guests with better photos](http://blog.airbnb.com/attract-guests-10-simple-tips-home-staging-expert-meridith-baer/). The aspirational content has also helped Airbnb differentiate and conquer predecessors like Couchsurfing.org.\n",
    "\n",
    "Pricing is equally and proactively considered by the platform: Airbnb is able to make a (subtle) suggestion to lower the price to hosts with less popular listings. \n",
    "\n",
    "Distance from city center is also a good predictor of the likelihood of a listing to be booked.\n",
    "\n",
    "Given more time and collaboration with the Airbnb team, I'd optimize some of the current features like distance or difference in pricing by crossing them with other dimensions. For each city we could map the most popular neighborhoods, those with higer density of listings, calculate the centroid representing every area, and recalculate the distance of the listing to the closest centroid.\n",
    "\n",
    "Classifying listings by neighborhoods can provide another set of variables particular to that submarket. For example, I can calculate the average listing price per night and compare with the price of each listing for that night for each neighborhood.\n",
    "\n",
    "Also, using the two listing price features (average and for ds_night), I might calculate the relative difference between both in order to understand if the price for a specific night is higher or lower than its average price.\n",
    "\n",
    "Apart from having a general model, another option is to build a separate model for each city. This way we could not only add features related to the the geography of the city and each neighborhood, but also a couple extra dimensions such as local weather and calendar events. \n",
    "\n",
    "Finally, I would build a separate model for those new listings as many of the features used for the model are either NaN or 0 for these listings.  "
   ]
  },
  {
   "cell_type": "code",
   "execution_count": null,
   "metadata": {
    "collapsed": true
   },
   "outputs": [],
   "source": []
  }
 ],
 "metadata": {
  "kernelspec": {
   "display_name": "Python 2",
   "language": "python",
   "name": "python2"
  },
  "language_info": {
   "codemirror_mode": {
    "name": "ipython",
    "version": 2
   },
   "file_extension": ".py",
   "mimetype": "text/x-python",
   "name": "python",
   "nbconvert_exporter": "python",
   "pygments_lexer": "ipython2",
   "version": "2.7.12"
  }
 },
 "nbformat": 4,
 "nbformat_minor": 0
}
