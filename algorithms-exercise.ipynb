{
 "cells": [
  {
   "cell_type": "markdown",
   "metadata": {},
   "source": [
    "User A is a **travel buddy** of user B if A has 50% or more of the cities in his/her wishlist in common with B. \n",
    "\n",
    "*Note: It is not a symmetric relationship.*\n",
    "\n",
    "Now, given your wishlist as input, write a solution to print out your travel buddies sorted by rank. The rank of a travel buddy is the number of cities they share in common with your wishlist.\n"
   ]
  },
  {
   "cell_type": "code",
   "execution_count": 4,
   "metadata": {
    "collapsed": true
   },
   "outputs": [],
   "source": [
    "from __future__ import division \n",
    "import operator\n",
    "me = set('Amsterdam,Barcelona,London,Prague'.split(','))\n",
    "inputs = [\n",
    "\t'U1,Amsterdam,Barcelona,London,Prague',\n",
    "\t'U2,Shanghai,Hong Kong,Moscow,Sydney,Melbourne',\n",
    "\t'U3,London,Boston,Amsterdam,Madrid',\n",
    "\t'U4,Barcelona,Prague,London,Sydney,Moscow',\n",
    "]"
   ]
  },
  {
   "cell_type": "code",
   "execution_count": 5,
   "metadata": {
    "collapsed": false
   },
   "outputs": [
    {
     "data": {
      "text/plain": [
       "{'Amsterdam', 'Barcelona', 'London', 'Prague'}"
      ]
     },
     "execution_count": 5,
     "metadata": {},
     "output_type": "execute_result"
    }
   ],
   "source": [
    "me"
   ]
  },
  {
   "cell_type": "code",
   "execution_count": 11,
   "metadata": {
    "collapsed": false
   },
   "outputs": [
    {
     "name": "stdout",
     "output_type": "stream",
     "text": [
      "U3,London,Boston,Amsterdam,Madrid\n"
     ]
    }
   ],
   "source": [
    "print inputs[2]  #every list in the dict"
   ]
  },
  {
   "cell_type": "code",
   "execution_count": 12,
   "metadata": {
    "collapsed": false
   },
   "outputs": [
    {
     "data": {
      "text/plain": [
       "['U2', 'Shanghai', 'Hong Kong', 'Moscow', 'Sydney', 'Melbourne']"
      ]
     },
     "execution_count": 12,
     "metadata": {},
     "output_type": "execute_result"
    }
   ],
   "source": [
    "data = inputs[1].split(\",\")   # split the list by words\n",
    "data  # a list of words"
   ]
  },
  {
   "cell_type": "code",
   "execution_count": 15,
   "metadata": {
    "collapsed": false
   },
   "outputs": [
    {
     "data": {
      "text/plain": [
       "'U2'"
      ]
     },
     "execution_count": 15,
     "metadata": {},
     "output_type": "execute_result"
    }
   ],
   "source": [
    "user = data[0]  # every word in the list\n",
    "user"
   ]
  },
  {
   "cell_type": "code",
   "execution_count": 16,
   "metadata": {
    "collapsed": false,
    "scrolled": true
   },
   "outputs": [
    {
     "data": {
      "text/plain": [
       "{'U2': 0}"
      ]
     },
     "execution_count": 16,
     "metadata": {},
     "output_type": "execute_result"
    }
   ],
   "source": [
    "buddy = dict()\n",
    "buddy[user] = 0\n",
    "buddy"
   ]
  },
  {
   "cell_type": "code",
   "execution_count": 17,
   "metadata": {
    "collapsed": false
   },
   "outputs": [
    {
     "data": {
      "text/plain": [
       "['Shanghai', 'Hong Kong', 'Moscow', 'Sydney', 'Melbourne']"
      ]
     },
     "execution_count": 17,
     "metadata": {},
     "output_type": "execute_result"
    }
   ],
   "source": [
    "data[1:]"
   ]
  },
  {
   "cell_type": "code",
   "execution_count": 19,
   "metadata": {
    "collapsed": false
   },
   "outputs": [
    {
     "data": {
      "text/plain": [
       "1"
      ]
     },
     "execution_count": 19,
     "metadata": {},
     "output_type": "execute_result"
    }
   ],
   "source": [
    "buddy.get(user, 0)+1"
   ]
  },
  {
   "cell_type": "code",
   "execution_count": 21,
   "metadata": {
    "collapsed": false
   },
   "outputs": [],
   "source": [
    "buddy = dict()\n",
    " \n",
    "for line in inputs:                    # for every list in the dict\n",
    "        data = line.split(\",\") \n",
    "        user = data[0]                 # extract the user id as key\n",
    "        buddy[user] = 0                # assign value 0 to user key in the dict\n",
    "        for p in data[1:]:             # for every city in the list \n",
    "                if p in me:            # if any city is in my list of cities then\n",
    "                    buddy[user] = buddy.get(user, 0)+1    #add a 1 and update buddy[user] count\n",
    "                    \n",
    "# get() returns a value for the given key. If key is not available then returns default (0)"
   ]
  },
  {
   "cell_type": "code",
   "execution_count": 22,
   "metadata": {
    "collapsed": false
   },
   "outputs": [
    {
     "data": {
      "text/plain": [
       "{'U1': 4, 'U2': 0, 'U3': 2, 'U4': 3}"
      ]
     },
     "execution_count": 22,
     "metadata": {},
     "output_type": "execute_result"
    }
   ],
   "source": [
    "buddy"
   ]
  },
  {
   "cell_type": "code",
   "execution_count": 23,
   "metadata": {
    "collapsed": false
   },
   "outputs": [],
   "source": [
    "# Sort the list of buddies by number of cities we share\n",
    "sorted_buddy = sorted(buddy.items(), key=lambda x: x[1], reverse = True)  "
   ]
  },
  {
   "cell_type": "code",
   "execution_count": 24,
   "metadata": {
    "collapsed": false
   },
   "outputs": [
    {
     "name": "stdout",
     "output_type": "stream",
     "text": [
      "Buddy: U1 \tCount: 4\n",
      "Buddy: U4 \tCount: 3\n",
      "Buddy: U3 \tCount: 2\n",
      "Buddy: U2 \tCount: 0\n"
     ]
    }
   ],
   "source": [
    "# for every pair k-v print the name of the buddy and the count of cities\n",
    "for k, v in sorted_buddy:    \n",
    "        print \"Buddy:\", k, \"\\tCount:\", v"
   ]
  },
  {
   "cell_type": "code",
   "execution_count": null,
   "metadata": {
    "collapsed": true
   },
   "outputs": [],
   "source": []
  }
 ],
 "metadata": {
  "kernelspec": {
   "display_name": "Python 2",
   "language": "python",
   "name": "python2"
  },
  "language_info": {
   "codemirror_mode": {
    "name": "ipython",
    "version": 2
   },
   "file_extension": ".py",
   "mimetype": "text/x-python",
   "name": "python",
   "nbconvert_exporter": "python",
   "pygments_lexer": "ipython2",
   "version": "2.7.12"
  }
 },
 "nbformat": 4,
 "nbformat_minor": 0
}
